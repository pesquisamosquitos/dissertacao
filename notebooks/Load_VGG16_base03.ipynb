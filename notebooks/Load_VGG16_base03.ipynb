{
  "nbformat": 4,
  "nbformat_minor": 0,
  "metadata": {
    "accelerator": "GPU",
    "colab": {
      "name": "Load VGG16 base03.ipynb",
      "provenance": [],
      "collapsed_sections": []
    },
    "kernelspec": {
      "display_name": "Python 3",
      "name": "python3"
    }
  },
  "cells": [
    {
      "cell_type": "code",
      "metadata": {
        "colab": {
          "base_uri": "https://localhost:8080/"
        },
        "id": "TflFz__Mj5AD",
        "outputId": "4d763043-3b30-42cb-ca2d-a7fceb97f1e4"
      },
      "source": [
        "from google.colab import drive\n",
        "drive.mount('/content/drive')"
      ],
      "execution_count": null,
      "outputs": [
        {
          "output_type": "stream",
          "name": "stdout",
          "text": [
            "Drive already mounted at /content/drive; to attempt to forcibly remount, call drive.mount(\"/content/drive\", force_remount=True).\n"
          ]
        }
      ]
    },
    {
      "cell_type": "code",
      "metadata": {
        "id": "uwQRKadne03q"
      },
      "source": [
        "%tensorflow_version 2.x\n",
        "import tensorflow as tf\n",
        "import numpy as np\n",
        "from tensorflow.keras.preprocessing.image import ImageDataGenerator\n",
        "from keras.utils import np_utils\n",
        "import itertools\n",
        "\n",
        "import matplotlib.pyplot as plt\n",
        "from sklearn.metrics import classification_report, confusion_matrix"
      ],
      "execution_count": null,
      "outputs": []
    },
    {
      "cell_type": "code",
      "metadata": {
        "id": "TIoBY1JNStuG"
      },
      "source": [
        "BS = 32\n",
        "img_height = 224\n",
        "img_width = 224\n",
        "\n",
        "INIT_LR = 0.01\n",
        "SEED = 42"
      ],
      "execution_count": null,
      "outputs": []
    },
    {
      "cell_type": "code",
      "metadata": {
        "id": "KjE7UUnAe04E"
      },
      "source": [
        "vgg16_base03_dir = \"/content/drive/My Drive/models/VGG16-base03/\"\n",
        "test_dir = \"/content/drive/My Drive/mosquitoes-datasets/parted/base03/test\""
      ],
      "execution_count": null,
      "outputs": []
    },
    {
      "cell_type": "code",
      "metadata": {
        "id": "jibYXQvnD-NW"
      },
      "source": [
        "test_datagen = ImageDataGenerator(rescale=1./255,)"
      ],
      "execution_count": null,
      "outputs": []
    },
    {
      "cell_type": "code",
      "metadata": {
        "colab": {
          "base_uri": "https://localhost:8080/"
        },
        "outputId": "f9b7efab-7615-4378-bda1-b0f047e94e21",
        "id": "HV6sTiecEQmp"
      },
      "source": [
        "test_ds = test_datagen.flow_from_directory(\n",
        "  directory = test_dir,\n",
        "  target_size=(img_height, img_width),\n",
        "  batch_size=BS,\n",
        "  seed=SEED,\n",
        "  shuffle=False,\n",
        "  class_mode='categorical',)\n"
      ],
      "execution_count": null,
      "outputs": [
        {
          "output_type": "stream",
          "name": "stdout",
          "text": [
            "Found 815 images belonging to 6 classes.\n"
          ]
        }
      ]
    },
    {
      "cell_type": "code",
      "metadata": {
        "id": "RSkzdv8MD0tT"
      },
      "source": [
        "loss_fn = tf.keras.losses.CategoricalCrossentropy()\n",
        "\n",
        "opt = tf.keras.optimizers.SGD(learning_rate=INIT_LR)"
      ],
      "execution_count": null,
      "outputs": []
    },
    {
      "cell_type": "markdown",
      "source": [
        "## Load"
      ],
      "metadata": {
        "id": "jstR2edavgjy"
      }
    },
    {
      "cell_type": "code",
      "source": [
        "test_ds.class_indices"
      ],
      "metadata": {
        "colab": {
          "base_uri": "https://localhost:8080/"
        },
        "id": "HlRQLrRxMSen",
        "outputId": "2583c596-f5b7-4c00-b00d-378f6f42a759"
      },
      "execution_count": null,
      "outputs": [
        {
          "output_type": "execute_result",
          "data": {
            "text/plain": [
              "{'aae-femea': 0,\n",
              " 'aae-macho': 1,\n",
              " 'aal-femea': 2,\n",
              " 'aal-macho': 3,\n",
              " 'cq-femea': 4,\n",
              " 'cq-macho': 5}"
            ]
          },
          "metadata": {},
          "execution_count": 48
        }
      ]
    },
    {
      "cell_type": "code",
      "source": [
        "target_names = []\n",
        "\n",
        "for key in test_ds.class_indices:\n",
        "\n",
        "    target_names.append(key)\n",
        "\n",
        "\n",
        "\n",
        "print(target_names)"
      ],
      "metadata": {
        "colab": {
          "base_uri": "https://localhost:8080/"
        },
        "outputId": "9b386317-ecb2-4e79-baed-61e4fd546f78",
        "id": "5pxjTh6tyWx5"
      },
      "execution_count": null,
      "outputs": [
        {
          "output_type": "stream",
          "name": "stdout",
          "text": [
            "['aae-femea', 'aae-macho', 'aal-femea', 'aal-macho', 'cq-femea', 'cq-macho']\n"
          ]
        }
      ]
    },
    {
      "cell_type": "code",
      "metadata": {
        "id": "msbntzQ8e05m",
        "colab": {
          "base_uri": "https://localhost:8080/"
        },
        "outputId": "8ab01f27-936b-4d88-8c7a-d01e973542b8"
      },
      "source": [
        "from keras.models import model_from_json\n",
        "# load json and create model\n",
        "json_file = open(vgg16_base03_dir+'model.json', 'r')\n",
        "loaded_model_json = json_file.read()\n",
        "json_file.close()\n",
        "loaded_model = model_from_json(loaded_model_json)\n",
        "# load weights into new model\n",
        "loaded_model.load_weights(vgg16_base03_dir+\"model.h5\")\n",
        "print(\"Loaded model from disk\")"
      ],
      "execution_count": null,
      "outputs": [
        {
          "output_type": "stream",
          "name": "stdout",
          "text": [
            "Loaded model from disk\n"
          ]
        }
      ]
    },
    {
      "cell_type": "code",
      "source": [
        "def plot_confusion_matrix(cm, classes, normalize=True, title='Confusion matrix', cmap=plt.cm.Blues):\n",
        "\n",
        "    \"\"\"\n",
        "\n",
        "    This function prints and plots the confusion matrix.\n",
        "\n",
        "    Normalization can be applied by setting `normalize=True`.\n",
        "\n",
        "    \"\"\"\n",
        "\n",
        "    plt.figure(figsize=(10,10))\n",
        "\n",
        "\n",
        "\n",
        "    plt.imshow(cm, interpolation='nearest', cmap=cmap)\n",
        "\n",
        "    plt.title(title)\n",
        "\n",
        "    plt.colorbar()\n",
        "\n",
        "\n",
        "\n",
        "    tick_marks = np.arange(len(classes))\n",
        "\n",
        "    plt.xticks(tick_marks, classes, rotation=45)\n",
        "\n",
        "    plt.yticks(tick_marks, classes)\n",
        "\n",
        "\n",
        "\n",
        "    if normalize:\n",
        "\n",
        "        cm = cm.astype('float') / cm.sum(axis=1)[:, np.newaxis]\n",
        "\n",
        "        cm = np.around(cm, decimals=2)\n",
        "\n",
        "        cm[np.isnan(cm)] = 0.0\n",
        "\n",
        "        print(\"Normalized confusion matrix\")\n",
        "\n",
        "    else:\n",
        "\n",
        "        print('Confusion matrix, without normalization')\n",
        "\n",
        "    thresh = cm.max() / 2.\n",
        "\n",
        "    for i, j in itertools.product(range(cm.shape[0]), range(cm.shape[1])):\n",
        "\n",
        "        plt.text(j, i, cm[i, j],\n",
        "\n",
        "                 horizontalalignment=\"center\",\n",
        "\n",
        "                 color=\"white\" if cm[i, j] > thresh else \"black\")\n",
        "\n",
        "    plt.tight_layout()\n",
        "\n",
        "    plt.ylabel('True label')\n",
        "\n",
        "    plt.xlabel('Predicted label')"
      ],
      "metadata": {
        "id": "xAK6s1aqJRo4"
      },
      "execution_count": null,
      "outputs": []
    },
    {
      "cell_type": "code",
      "metadata": {
        "id": "TY38IyCHe05r",
        "colab": {
          "base_uri": "https://localhost:8080/"
        },
        "outputId": "d2ec7147-683d-4f43-b1bd-40a0c8a59fca"
      },
      "source": [
        "# evaluate loaded model on test data\n",
        "loaded_model.compile(loss = loss_fn, optimizer = opt, metrics=['accuracy'])\n",
        "score = loaded_model.evaluate(x = test_ds)\n",
        "print(\"%s: %.2f%%\" % (loaded_model.metrics_names[1], score[1]*100))\n",
        "\n",
        "print(\"[INFO] Loss: \",score[0])"
      ],
      "execution_count": null,
      "outputs": [
        {
          "output_type": "stream",
          "name": "stdout",
          "text": [
            "26/26 [==============================] - 9s 328ms/step - loss: 0.1712 - accuracy: 0.9460\n",
            "accuracy: 94.60%\n",
            "[INFO] Loss:  0.17120349407196045\n"
          ]
        }
      ]
    },
    {
      "cell_type": "code",
      "source": [
        "import time\n",
        "inicio = time.process_time()\n",
        "\n",
        "predictions = loaded_model.predict(test_ds)\n",
        "y_pred = predictions.argmax(axis=1)\n",
        "\n",
        "fim = time.process_time()\n",
        "tempo = fim - inicio"
      ],
      "metadata": {
        "id": "ZjHchIeAyN4x"
      },
      "execution_count": null,
      "outputs": []
    },
    {
      "cell_type": "code",
      "source": [
        "tempo"
      ],
      "metadata": {
        "colab": {
          "base_uri": "https://localhost:8080/"
        },
        "id": "eDbDW1f056T5",
        "outputId": "11a30849-00d7-4ce4-de30-a11641c521c7"
      },
      "execution_count": null,
      "outputs": [
        {
          "output_type": "execute_result",
          "data": {
            "text/plain": [
              "9.411082394000005"
            ]
          },
          "metadata": {},
          "execution_count": 54
        }
      ]
    },
    {
      "cell_type": "code",
      "source": [
        "print(classification_report(test_ds.classes,\n",
        "                            y_pred,\n",
        "                            target_names=target_names))"
      ],
      "metadata": {
        "id": "Guwl2yvH5mpk",
        "colab": {
          "base_uri": "https://localhost:8080/"
        },
        "outputId": "45da2674-6db1-447a-b101-3ed437d6286e"
      },
      "execution_count": null,
      "outputs": [
        {
          "output_type": "stream",
          "name": "stdout",
          "text": [
            "              precision    recall  f1-score   support\n",
            "\n",
            "   aae-femea       0.96      0.95      0.95       150\n",
            "   aae-macho       0.92      0.90      0.91       150\n",
            "   aal-femea       0.89      0.95      0.92       104\n",
            "   aal-macho       0.90      0.89      0.90       111\n",
            "    cq-femea       0.99      0.98      0.99       150\n",
            "    cq-macho       0.98      0.99      0.99       150\n",
            "\n",
            "    accuracy                           0.95       815\n",
            "   macro avg       0.94      0.94      0.94       815\n",
            "weighted avg       0.95      0.95      0.95       815\n",
            "\n"
          ]
        }
      ]
    },
    {
      "cell_type": "code",
      "source": [
        "cm = confusion_matrix(test_ds.classes,\n",
        "                            y_pred,)\n",
        "\n",
        "plot_confusion_matrix(cm, target_names, False, title='Confusion Matrix')"
      ],
      "metadata": {
        "colab": {
          "base_uri": "https://localhost:8080/",
          "height": 746
        },
        "id": "cC8yEGhcj21O",
        "outputId": "1868e5e7-8b1a-4045-c7c5-3bb1c9e93846"
      },
      "execution_count": null,
      "outputs": [
        {
          "output_type": "stream",
          "name": "stdout",
          "text": [
            "Confusion matrix, without normalization\n"
          ]
        },
        {
          "output_type": "display_data",
          "data": {
            "image/png": "[encoded data removed]",
            "text/plain": [
              "<Figure size 720x720 with 2 Axes>"
            ]
          },
          "metadata": {
            "needs_background": "light"
          }
        }
      ]
    },
    {
      "cell_type": "markdown",
      "source": [
        "## Curva ROC"
      ],
      "metadata": {
        "id": "kax-5_7YpXJz"
      }
    },
    {
      "cell_type": "code",
      "source": [
        "#ROC CURVE\n",
        "from sklearn.metrics import roc_curve, auc\n",
        "\n",
        "\n",
        "\n",
        "# roc curve for classes\n",
        "fpr = {}\n",
        "tpr = {}\n",
        "thresh ={}\n",
        "roc_auc = {}\n",
        "n_class = 6\n",
        "colors = ['blue','green','orange','black','red','brown']\n",
        "\n",
        "for i in range(n_class):    \n",
        "    fpr[i], tpr[i], thresh[i] = roc_curve(test_ds.classes, predictions[:,i], pos_label=i)\n",
        "    roc_auc[i] = auc(fpr[i], tpr[i])\n",
        "    \n",
        "# plotting\n",
        "for i in range(n_class):\n",
        "  plt.plot(fpr[i], tpr[i], linestyle='--',color= colors[i], label=f'Class {target_names[i]} vs Rest (area = {roc_auc[i]:0.4f}')    \n",
        "'''plt.plot(fpr[0], tpr[0], linestyle='--',color='orange', label='Class aae-femea vs Rest (area = {1:0.4f}'.format(1, roc_auc[0]))\n",
        "plt.plot(fpr[1], tpr[1], linestyle='--',color='green', label='Class aae-macho vs Rest (area = {1:0.4f}'.format(1, roc_auc[1]))\n",
        "plt.plot(fpr[2], tpr[2], linestyle='--',color='blue', label='Class aal-femea vs Rest (area = {1:0.4f}'.format(1, roc_auc[2]))\n",
        "plt.plot(fpr[3], tpr[3], linestyle='--',color='black', label='Class aal-macho vs Rest (area = {1:0.4f}'.format(1, roc_auc[3]))\n",
        "plt.plot(fpr[4], tpr[4], linestyle='--',color='red', label='Class cq-femea vs Rest (area = {1:0.4f}'.format(1, roc_auc[4]))\n",
        "plt.plot(fpr[5], tpr[5], linestyle='--',color='brown', label='Class cq-macho vs Rest (area = {1:0.4f}'.format(1, roc_auc[5]))'''\n",
        "\n",
        "\n",
        "plt.title('Multiclass ROC curve')\n",
        "plt.xlabel('False Positive Rate')\n",
        "plt.ylabel('True Positive rate')\n",
        "plt.legend(loc='best')\n",
        "plt.savefig('Multiclass ROC',dpi=300);"
      ],
      "metadata": {
        "colab": {
          "base_uri": "https://localhost:8080/",
          "height": 295
        },
        "id": "vJEDtZFVkTiD",
        "outputId": "dc50965e-47be-4b9c-ff29-f9072ebb0e8c"
      },
      "execution_count": null,
      "outputs": [
        {
          "output_type": "display_data",
          "data": {
            "image/png": "[encoded data removed]",
            "text/plain": [
              "<Figure size 432x288 with 1 Axes>"
            ]
          },
          "metadata": {
            "needs_background": "light"
          }
        }
      ]
    },
    {
      "cell_type": "code",
      "source": [
        ""
      ],
      "metadata": {
        "id": "oQ0Qx6PMwCkz"
      },
      "execution_count": null,
      "outputs": []
    },
    {
      "cell_type": "markdown",
      "source": [
        "## Curva PR"
      ],
      "metadata": {
        "id": "WXXgr8rfv_GO"
      }
    },
    {
      "cell_type": "code",
      "source": [
        "#ROC CURVE\n",
        "from sklearn.metrics import precision_recall_curve, auc\n",
        "\n",
        "\n",
        "\n",
        "# roc curve for classes\n",
        "precision = {}\n",
        "recall = {}\n",
        "thresh ={}\n",
        "roc_auc = {}\n",
        "n_class = 6\n",
        "colors = ['blue','green','orange','black','red','brown']\n",
        "\n",
        "for i in range(n_class):    \n",
        "    precision[i], recall[i], thresh[i] = precision_recall_curve(test_ds.classes, predictions[:,i], pos_label=i)\n",
        "    roc_auc[i] = auc(recall[i],precision[i])\n",
        "    \n",
        "# plotting\n",
        "for i in range(n_class):\n",
        "  plt.plot(recall[i],precision[i],  linestyle='--',color= colors[i], label=f'Class {target_names[i]} vs Rest (area = {roc_auc[i]:0.4f}')    \n",
        "'''plt.plot(fpr[0], tpr[0], linestyle='--',color='orange', label='Class aae-femea vs Rest (area = {1:0.4f}'.format(1, roc_auc[0]))\n",
        "plt.plot(fpr[1], tpr[1], linestyle='--',color='green', label='Class aae-macho vs Rest (area = {1:0.4f}'.format(1, roc_auc[1]))\n",
        "plt.plot(fpr[2], tpr[2], linestyle='--',color='blue', label='Class aal-femea vs Rest (area = {1:0.4f}'.format(1, roc_auc[2]))\n",
        "plt.plot(fpr[3], tpr[3], linestyle='--',color='black', label='Class aal-macho vs Rest (area = {1:0.4f}'.format(1, roc_auc[3]))\n",
        "plt.plot(fpr[4], tpr[4], linestyle='--',color='red', label='Class cq-femea vs Rest (area = {1:0.4f}'.format(1, roc_auc[4]))\n",
        "plt.plot(fpr[5], tpr[5], linestyle='--',color='brown', label='Class cq-macho vs Rest (area = {1:0.4f}'.format(1, roc_auc[5]))'''\n",
        "\n",
        "\n",
        "plt.title('Multiclass PR curve')\n",
        "plt.xlabel('Recall')\n",
        "plt.ylabel('Precision')\n",
        "plt.legend(loc='best')\n",
        "plt.savefig('Multiclass PR',dpi=300);"
      ],
      "metadata": {
        "colab": {
          "base_uri": "https://localhost:8080/",
          "height": 295
        },
        "outputId": "499caeeb-1943-431e-99ba-645b65f74bd1",
        "id": "xUS1sgxhv_Gc"
      },
      "execution_count": null,
      "outputs": [
        {
          "output_type": "display_data",
          "data": {
            "image/png": "[encoded data removed]",
            "text/plain": [
              "<Figure size 432x288 with 1 Axes>"
            ]
          },
          "metadata": {
            "needs_background": "light"
          }
        }
      ]
    }
  ]
}