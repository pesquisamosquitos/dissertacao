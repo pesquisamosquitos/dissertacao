{
  "nbformat": 4,
  "nbformat_minor": 0,
  "metadata": {
    "accelerator": "GPU",
    "colab": {
      "name": "Load EfficientNetB0 base03.ipynb",
      "provenance": [],
      "collapsed_sections": []
    },
    "kernelspec": {
      "display_name": "Python 3",
      "name": "python3"
    }
  },
  "cells": [
    {
      "cell_type": "code",
      "metadata": {
        "colab": {
          "base_uri": "https://localhost:8080/"
        },
        "id": "TflFz__Mj5AD",
        "outputId": "38842e7e-363a-4572-e1aa-a6f29e3317d9"
      },
      "source": [
        "from google.colab import drive\n",
        "drive.mount('/content/drive')"
      ],
      "execution_count": null,
      "outputs": [
        {
          "output_type": "stream",
          "name": "stdout",
          "text": [
            "Mounted at /content/drive\n"
          ]
        }
      ]
    },
    {
      "cell_type": "code",
      "metadata": {
        "id": "uwQRKadne03q"
      },
      "source": [
        "%tensorflow_version 2.x\n",
        "import tensorflow as tf\n",
        "import numpy as np\n",
        "from tensorflow.keras.preprocessing.image import ImageDataGenerator\n",
        "from keras.utils import np_utils\n",
        "import itertools\n",
        "\n",
        "import matplotlib.pyplot as plt\n",
        "from sklearn.metrics import classification_report, confusion_matrix"
      ],
      "execution_count": null,
      "outputs": []
    },
    {
      "cell_type": "code",
      "metadata": {
        "id": "TIoBY1JNStuG"
      },
      "source": [
        "BS = 32\n",
        "img_height = 224\n",
        "img_width = 224\n",
        "\n",
        "INIT_LR = 0.0001\n",
        "\n",
        "SEED = 42"
      ],
      "execution_count": null,
      "outputs": []
    },
    {
      "cell_type": "code",
      "metadata": {
        "id": "KjE7UUnAe04E"
      },
      "source": [
        "efficientnetb0_base03_dir = \"/content/drive/My Drive/models/EfficientNetB0-base03/\"\n",
        "test_dir = \"/content/drive/My Drive/mosquitoes-datasets/parted/base03/test\""
      ],
      "execution_count": null,
      "outputs": []
    },
    {
      "cell_type": "code",
      "metadata": {
        "id": "jibYXQvnD-NW"
      },
      "source": [
        "test_datagen = ImageDataGenerator(rescale=1./255,)"
      ],
      "execution_count": null,
      "outputs": []
    },
    {
      "cell_type": "code",
      "metadata": {
        "colab": {
          "base_uri": "https://localhost:8080/"
        },
        "outputId": "68ea8b6e-55a3-44a8-a385-82771932de6f",
        "id": "HV6sTiecEQmp"
      },
      "source": [
        "test_ds = test_datagen.flow_from_directory(\n",
        "  directory = test_dir,\n",
        "  target_size=(img_height, img_width),\n",
        "  batch_size=BS,\n",
        "  seed=SEED,\n",
        "  shuffle=False,\n",
        "  class_mode='categorical',)\n"
      ],
      "execution_count": null,
      "outputs": [
        {
          "output_type": "stream",
          "name": "stdout",
          "text": [
            "Found 815 images belonging to 6 classes.\n"
          ]
        }
      ]
    },
    {
      "cell_type": "code",
      "metadata": {
        "id": "RSkzdv8MD0tT"
      },
      "source": [
        "loss_fn = tf.keras.losses.CategoricalCrossentropy()\n",
        "opt = tf.keras.optimizers.Adam(learning_rate=INIT_LR)"
      ],
      "execution_count": null,
      "outputs": []
    },
    {
      "cell_type": "markdown",
      "source": [
        "## Load"
      ],
      "metadata": {
        "id": "jstR2edavgjy"
      }
    },
    {
      "cell_type": "code",
      "source": [
        "test_ds.class_indices"
      ],
      "metadata": {
        "colab": {
          "base_uri": "https://localhost:8080/"
        },
        "id": "HlRQLrRxMSen",
        "outputId": "2cff9df2-f3ee-4357-daa8-5c535e7e62c0"
      },
      "execution_count": null,
      "outputs": [
        {
          "output_type": "execute_result",
          "data": {
            "text/plain": [
              "{'aae-femea': 0,\n",
              " 'aae-macho': 1,\n",
              " 'aal-femea': 2,\n",
              " 'aal-macho': 3,\n",
              " 'cq-femea': 4,\n",
              " 'cq-macho': 5}"
            ]
          },
          "metadata": {},
          "execution_count": 8
        }
      ]
    },
    {
      "cell_type": "code",
      "source": [
        "target_names = []\n",
        "\n",
        "for key in test_ds.class_indices:\n",
        "\n",
        "    target_names.append(key)\n",
        "\n",
        "\n",
        "\n",
        "print(target_names)"
      ],
      "metadata": {
        "colab": {
          "base_uri": "https://localhost:8080/"
        },
        "outputId": "3c89ac99-7037-4b17-c975-d0ff9406c6f1",
        "id": "5pxjTh6tyWx5"
      },
      "execution_count": null,
      "outputs": [
        {
          "output_type": "stream",
          "name": "stdout",
          "text": [
            "['aae-femea', 'aae-macho', 'aal-femea', 'aal-macho', 'cq-femea', 'cq-macho']\n"
          ]
        }
      ]
    },
    {
      "cell_type": "code",
      "metadata": {
        "id": "msbntzQ8e05m",
        "colab": {
          "base_uri": "https://localhost:8080/"
        },
        "outputId": "e7a62b71-f7c0-40a4-ef8f-82b31c3aa572"
      },
      "source": [
        "from keras.models import model_from_json\n",
        "# load json and create model\n",
        "json_file = open(efficientnetb0_base03_dir+'model.json', 'r')\n",
        "loaded_model_json = json_file.read()\n",
        "json_file.close()\n",
        "loaded_model = model_from_json(loaded_model_json)\n",
        "# load weights into new model\n",
        "loaded_model.load_weights(efficientnetb0_base03_dir+\"model.h5\")\n",
        "print(\"Loaded model from disk\")"
      ],
      "execution_count": null,
      "outputs": [
        {
          "output_type": "stream",
          "name": "stdout",
          "text": [
            "Loaded model from disk\n"
          ]
        }
      ]
    },
    {
      "cell_type": "code",
      "source": [
        "def plot_confusion_matrix(cm, classes, normalize=True, title='Confusion matrix', cmap=plt.cm.Blues):\n",
        "\n",
        "    \"\"\"\n",
        "\n",
        "    This function prints and plots the confusion matrix.\n",
        "\n",
        "    Normalization can be applied by setting `normalize=True`.\n",
        "\n",
        "    \"\"\"\n",
        "\n",
        "    plt.figure(figsize=(10,10))\n",
        "\n",
        "\n",
        "\n",
        "    plt.imshow(cm, interpolation='nearest', cmap=cmap)\n",
        "\n",
        "    plt.title(title)\n",
        "\n",
        "    plt.colorbar()\n",
        "\n",
        "\n",
        "\n",
        "    tick_marks = np.arange(len(classes))\n",
        "\n",
        "    plt.xticks(tick_marks, classes, rotation=45)\n",
        "\n",
        "    plt.yticks(tick_marks, classes)\n",
        "\n",
        "\n",
        "\n",
        "    if normalize:\n",
        "\n",
        "        cm = cm.astype('float') / cm.sum(axis=1)[:, np.newaxis]\n",
        "\n",
        "        cm = np.around(cm, decimals=2)\n",
        "\n",
        "        cm[np.isnan(cm)] = 0.0\n",
        "\n",
        "        print(\"Normalized confusion matrix\")\n",
        "\n",
        "    else:\n",
        "\n",
        "        print('Confusion matrix, without normalization')\n",
        "\n",
        "    thresh = cm.max() / 2.\n",
        "\n",
        "    for i, j in itertools.product(range(cm.shape[0]), range(cm.shape[1])):\n",
        "\n",
        "        plt.text(j, i, cm[i, j],\n",
        "\n",
        "                 horizontalalignment=\"center\",\n",
        "\n",
        "                 color=\"white\" if cm[i, j] > thresh else \"black\")\n",
        "\n",
        "    plt.tight_layout()\n",
        "\n",
        "    plt.ylabel('True label')\n",
        "\n",
        "    plt.xlabel('Predicted label')"
      ],
      "metadata": {
        "id": "xAK6s1aqJRo4"
      },
      "execution_count": null,
      "outputs": []
    },
    {
      "cell_type": "code",
      "metadata": {
        "id": "TY38IyCHe05r",
        "colab": {
          "base_uri": "https://localhost:8080/"
        },
        "outputId": "d410055d-a802-412b-979e-8aceab4c5044"
      },
      "source": [
        "# evaluate loaded model on test data\n",
        "loaded_model.compile(loss = loss_fn, optimizer = opt, metrics=['accuracy'])\n",
        "score = loaded_model.evaluate(x = test_ds)\n",
        "print(\"%s: %.2f%%\" % (loaded_model.metrics_names[1], score[1]*100))\n",
        "\n",
        "print(\"[INFO] Loss: \",score[0])"
      ],
      "execution_count": null,
      "outputs": [
        {
          "output_type": "stream",
          "name": "stdout",
          "text": [
            "26/26 [==============================] - 501s 20s/step - loss: 0.2241 - accuracy: 0.9436\n",
            "accuracy: 94.36%\n",
            "[INFO] Loss:  0.22414223849773407\n"
          ]
        }
      ]
    },
    {
      "cell_type": "code",
      "source": [
        "import time\n",
        "inicio = time.process_time()\n",
        "\n",
        "predictions = loaded_model.predict(test_ds)\n",
        "y_pred = predictions.argmax(axis=1)\n",
        "\n",
        "fim = time.process_time()\n",
        "tempo = fim - inicio"
      ],
      "metadata": {
        "id": "ZjHchIeAyN4x"
      },
      "execution_count": null,
      "outputs": []
    },
    {
      "cell_type": "code",
      "source": [
        "tempo"
      ],
      "metadata": {
        "colab": {
          "base_uri": "https://localhost:8080/"
        },
        "id": "eDbDW1f056T5",
        "outputId": "0bee7d40-5ce5-40a7-cfe6-11f0198b9df9"
      },
      "execution_count": null,
      "outputs": [
        {
          "output_type": "execute_result",
          "data": {
            "text/plain": [
              "9.427016323"
            ]
          },
          "metadata": {},
          "execution_count": 14
        }
      ]
    },
    {
      "cell_type": "code",
      "source": [
        "print(classification_report(test_ds.classes,\n",
        "                            y_pred,\n",
        "                            target_names=target_names))"
      ],
      "metadata": {
        "id": "Guwl2yvH5mpk",
        "colab": {
          "base_uri": "https://localhost:8080/"
        },
        "outputId": "b5c764a4-d71c-4cb1-ac1b-de92b7fc571b"
      },
      "execution_count": null,
      "outputs": [
        {
          "output_type": "stream",
          "name": "stdout",
          "text": [
            "              precision    recall  f1-score   support\n",
            "\n",
            "   aae-femea       0.95      0.98      0.97       150\n",
            "   aae-macho       0.88      0.92      0.90       150\n",
            "   aal-femea       0.94      0.98      0.96       104\n",
            "   aal-macho       0.93      0.79      0.85       111\n",
            "    cq-femea       0.97      0.99      0.98       150\n",
            "    cq-macho       0.99      0.97      0.98       150\n",
            "\n",
            "    accuracy                           0.94       815\n",
            "   macro avg       0.94      0.94      0.94       815\n",
            "weighted avg       0.94      0.94      0.94       815\n",
            "\n"
          ]
        }
      ]
    },
    {
      "cell_type": "code",
      "source": [
        "cm = confusion_matrix(test_ds.classes,\n",
        "                            y_pred,)\n",
        "\n",
        "plot_confusion_matrix(cm, target_names, False, title='Confusion Matrix')"
      ],
      "metadata": {
        "colab": {
          "base_uri": "https://localhost:8080/",
          "height": 746
        },
        "id": "cC8yEGhcj21O",
        "outputId": "c7de4757-75ee-4728-c586-1e61e50aad39"
      },
      "execution_count": null,
      "outputs": [
        {
          "output_type": "stream",
          "name": "stdout",
          "text": [
            "Confusion matrix, without normalization\n"
          ]
        },
        {
          "output_type": "display_data",
          "data": {
            "image/png": "[encoded data removed]",
            "text/plain": [
              "<Figure size 720x720 with 2 Axes>"
            ]
          },
          "metadata": {
            "needs_background": "light"
          }
        }
      ]
    },
    {
      "cell_type": "code",
      "source": [
        "predictions"
      ],
      "metadata": {
        "colab": {
          "base_uri": "https://localhost:8080/"
        },
        "id": "3dyHL7DHtnss",
        "outputId": "88068afa-d6d1-48be-b2d4-513259e2538b"
      },
      "execution_count": null,
      "outputs": [
        {
          "output_type": "execute_result",
          "data": {
            "text/plain": [
              "array([[1.00000000e+00, 1.37810024e-14, 3.90023942e-08, 3.93936836e-13,\n",
              "        8.40733723e-22, 7.41273932e-31],\n",
              "       [9.99775469e-01, 2.22796938e-04, 2.93652363e-07, 1.78314119e-09,\n",
              "        1.56979377e-06, 1.82919041e-10],\n",
              "       [9.99554574e-01, 8.66027783e-09, 4.45242564e-04, 1.79043667e-07,\n",
              "        7.87274239e-12, 6.41930537e-17],\n",
              "       ...,\n",
              "       [2.01720747e-13, 4.40137526e-09, 1.75479276e-15, 5.51892126e-12,\n",
              "        4.48022632e-07, 9.99999523e-01],\n",
              "       [8.12264267e-27, 2.01194421e-13, 6.72417592e-28, 4.45853478e-14,\n",
              "        1.52966002e-14, 1.00000000e+00],\n",
              "       [1.65869055e-11, 1.34290215e-08, 1.15073034e-12, 3.70556814e-11,\n",
              "        1.99031892e-05, 9.99980092e-01]], dtype=float32)"
            ]
          },
          "metadata": {},
          "execution_count": 17
        }
      ]
    },
    {
      "cell_type": "markdown",
      "source": [
        "## Curva ROC"
      ],
      "metadata": {
        "id": "kax-5_7YpXJz"
      }
    },
    {
      "cell_type": "code",
      "source": [
        "#ROC CURVE\n",
        "from sklearn.metrics import roc_curve, auc\n",
        "\n",
        "\n",
        "\n",
        "# roc curve for classes\n",
        "fpr = {}\n",
        "tpr = {}\n",
        "thresh ={}\n",
        "roc_auc = {}\n",
        "n_class = 6\n",
        "colors = ['blue','green','orange','black','red','brown']\n",
        "\n",
        "\n",
        "for i in range(n_class):    \n",
        "    fpr[i], tpr[i], thresh[i] = roc_curve(test_ds.classes, predictions[:,i], pos_label=i)\n",
        "    roc_auc[i] = auc(fpr[i], tpr[i])\n",
        "    \n",
        "# plotting\n",
        "for i in range(n_class):\n",
        "  plt.plot(fpr[i], tpr[i], linestyle='--',color= colors[i], label=f'Class {target_names[i]} vs Rest (area = {roc_auc[i]:0.4f}')\n",
        "'''plt.plot(fpr[1], tpr[1], linestyle='--',color='green', label='Class aae-macho vs Rest (area = {1:0.4f}'.format(1, roc_auc[1]))\n",
        "plt.plot(fpr[2], tpr[2], linestyle='--',color='blue', label='Class aal-femea vs Rest (area = {1:0.4f}'.format(1, roc_auc[2]))\n",
        "plt.plot(fpr[3], tpr[3], linestyle='--',color='black', label='Class aal-macho vs Rest (area = {1:0.4f}'.format(1, roc_auc[3]))\n",
        "plt.plot(fpr[4], tpr[4], linestyle='--',color='red', label='Class cq-femea vs Rest (area = {1:0.4f}'.format(1, roc_auc[4]))\n",
        "plt.plot(fpr[5], tpr[5], linestyle='--',color='brown', label='Class cq-macho vs Rest (area = {1:0.4f}'.format(1, roc_auc[5]))'''\n",
        "\n",
        "\n",
        "plt.title('Multiclass ROC curve')\n",
        "plt.xlabel('False Positive Rate')\n",
        "plt.ylabel('True Positive rate')\n",
        "plt.legend(loc='best')\n",
        "plt.savefig('Multiclass ROC',dpi=300);"
      ],
      "metadata": {
        "colab": {
          "base_uri": "https://localhost:8080/",
          "height": 295
        },
        "id": "vJEDtZFVkTiD",
        "outputId": "c66f569b-e9d2-43fc-937d-6a4e2f0fa98e"
      },
      "execution_count": null,
      "outputs": [
        {
          "output_type": "display_data",
          "data": {
            "image/png": "[encoded data removed]",
            "text/plain": [
              "<Figure size 432x288 with 1 Axes>"
            ]
          },
          "metadata": {
            "needs_background": "light"
          }
        }
      ]
    },
    {
      "cell_type": "markdown",
      "source": [
        "## Curva PR"
      ],
      "metadata": {
        "id": "WXXgr8rfv_GO"
      }
    },
    {
      "cell_type": "code",
      "source": [
        "#ROC CURVE\n",
        "from sklearn.metrics import precision_recall_curve, auc\n",
        "\n",
        "\n",
        "\n",
        "# roc curve for classes\n",
        "precision = {}\n",
        "recall = {}\n",
        "thresh ={}\n",
        "roc_auc = {}\n",
        "n_class = 6\n",
        "colors = ['blue','green','orange','black','red','brown']\n",
        "\n",
        "for i in range(n_class):    \n",
        "    precision[i], recall[i], thresh[i] = precision_recall_curve(test_ds.classes, predictions[:,i], pos_label=i)\n",
        "    roc_auc[i] = auc(recall[i],precision[i])\n",
        "    \n",
        "# plotting\n",
        "for i in range(n_class):\n",
        "  plt.plot(recall[i], precision[i], linestyle='--',color= colors[i], label=f'Class {target_names[i]} vs Rest (area = {roc_auc[i]:0.4f}')    \n",
        "'''plt.plot(fpr[0], tpr[0], linestyle='--',color='orange', label='Class aae-femea vs Rest (area = {1:0.4f}'.format(1, roc_auc[0]))\n",
        "plt.plot(fpr[1], tpr[1], linestyle='--',color='green', label='Class aae-macho vs Rest (area = {1:0.4f}'.format(1, roc_auc[1]))\n",
        "plt.plot(fpr[2], tpr[2], linestyle='--',color='blue', label='Class aal-femea vs Rest (area = {1:0.4f}'.format(1, roc_auc[2]))\n",
        "plt.plot(fpr[3], tpr[3], linestyle='--',color='black', label='Class aal-macho vs Rest (area = {1:0.4f}'.format(1, roc_auc[3]))\n",
        "plt.plot(fpr[4], tpr[4], linestyle='--',color='red', label='Class cq-femea vs Rest (area = {1:0.4f}'.format(1, roc_auc[4]))\n",
        "plt.plot(fpr[5], tpr[5], linestyle='--',color='brown', label='Class cq-macho vs Rest (area = {1:0.4f}'.format(1, roc_auc[5]))'''\n",
        "\n",
        "\n",
        "plt.title('Multiclass PR curve')\n",
        "plt.xlabel('Recall')\n",
        "plt.ylabel('Precision')\n",
        "plt.legend(loc='best')\n",
        "plt.savefig('Multiclass PR',dpi=300);"
      ],
      "metadata": {
        "colab": {
          "base_uri": "https://localhost:8080/",
          "height": 295
        },
        "outputId": "09dce366-3c41-4d79-f67a-2e2cc09b0e4b",
        "id": "xUS1sgxhv_Gc"
      },
      "execution_count": null,
      "outputs": [
        {
          "output_type": "display_data",
          "data": {
            "image/png": "[encoded data removed]",
            "text/plain": [
              "<Figure size 432x288 with 1 Axes>"
            ]
          },
          "metadata": {
            "needs_background": "light"
          }
        }
      ]
    }
  ]
}