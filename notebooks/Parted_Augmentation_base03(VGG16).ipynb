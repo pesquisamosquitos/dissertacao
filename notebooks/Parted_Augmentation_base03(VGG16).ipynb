{
  "nbformat": 4,
  "nbformat_minor": 0,
  "metadata": {
    "accelerator": "GPU",
    "colab": {
      "name": "Parted Augmentation base03(VGG16).ipynb",
      "provenance": [],
      "collapsed_sections": []
    },
    "kernelspec": {
      "display_name": "Python 3",
      "name": "python3"
    }
  },
  "cells": [
    {
      "cell_type": "code",
      "metadata": {
        "colab": {
          "base_uri": "https://localhost:8080/"
        },
        "id": "TflFz__Mj5AD",
        "outputId": "6308cd26-3079-4713-c4af-82a33e10c4dc"
      },
      "source": [
        "from google.colab import drive\n",
        "drive.mount('/content/drive')"
      ],
      "execution_count": null,
      "outputs": [
        {
          "output_type": "stream",
          "name": "stdout",
          "text": [
            "Mounted at /content/drive\n"
          ]
        }
      ]
    },
    {
      "cell_type": "code",
      "metadata": {
        "id": "HdHFnfZHf8Hc"
      },
      "source": [
        "#!pip install tensorflow-addons"
      ],
      "execution_count": null,
      "outputs": []
    },
    {
      "cell_type": "code",
      "metadata": {
        "id": "uwQRKadne03q"
      },
      "source": [
        "%tensorflow_version 2.x\n",
        "import tensorflow as tf\n",
        "#import tensorflow_addons as tfa\n",
        "from imutils import paths\n",
        "import os\n",
        "import cv2\n",
        "import numpy as np\n",
        "from tensorflow.keras.preprocessing.image import ImageDataGenerator\n",
        "from sklearn.preprocessing import LabelEncoder\n",
        "from keras.utils import np_utils\n",
        "from sklearn.metrics import classification_report, confusion_matrix\n",
        "import itertools\n",
        "\n",
        "import matplotlib.pyplot as plt\n",
        "#matplotlib.use(\"Agg\")\n",
        "from sklearn.metrics import classification_report, confusion_matrix\n",
        "from sklearn.model_selection import train_test_split\n",
        "from keras.callbacks import EarlyStopping\n",
        "from sklearn.utils import class_weight\n",
        "\n",
        "\n"
      ],
      "execution_count": null,
      "outputs": []
    },
    {
      "cell_type": "markdown",
      "metadata": {
        "id": "2CNRfViw9143"
      },
      "source": [
        "## Qual GPU está sendo usada"
      ]
    },
    {
      "cell_type": "code",
      "metadata": {
        "id": "23TOba33L4qf",
        "colab": {
          "base_uri": "https://localhost:8080/"
        },
        "outputId": "5ac16117-fbc4-4ae0-b75d-3933fc0d5882"
      },
      "source": [
        "gpu_info = !nvidia-smi\n",
        "gpu_info = '\\n'.join(gpu_info)\n",
        "if gpu_info.find('failed') >= 0:\n",
        "  print('Select the Runtime > \"Change runtime type\" menu to enable a GPU accelerator, ')\n",
        "  print('and then re-execute this cell.')\n",
        "else:\n",
        "  print(gpu_info)"
      ],
      "execution_count": null,
      "outputs": [
        {
          "output_type": "stream",
          "name": "stdout",
          "text": [
            "Tue Dec 28 20:32:27 2021       \n",
            "+-----------------------------------------------------------------------------+\n",
            "| NVIDIA-SMI 495.44       Driver Version: 460.32.03    CUDA Version: 11.2     |\n",
            "|-------------------------------+----------------------+----------------------+\n",
            "| GPU  Name        Persistence-M| Bus-Id        Disp.A | Volatile Uncorr. ECC |\n",
            "| Fan  Temp  Perf  Pwr:Usage/Cap|         Memory-Usage | GPU-Util  Compute M. |\n",
            "|                               |                      |               MIG M. |\n",
            "|===============================+======================+======================|\n",
            "|   0  Tesla P100-PCIE...  Off  | 00000000:00:04.0 Off |                    0 |\n",
            "| N/A   43C    P0    28W / 250W |      0MiB / 16280MiB |      0%      Default |\n",
            "|                               |                      |                  N/A |\n",
            "+-------------------------------+----------------------+----------------------+\n",
            "                                                                               \n",
            "+-----------------------------------------------------------------------------+\n",
            "| Processes:                                                                  |\n",
            "|  GPU   GI   CI        PID   Type   Process name                  GPU Memory |\n",
            "|        ID   ID                                                   Usage      |\n",
            "|=============================================================================|\n",
            "|  No running processes found                                                 |\n",
            "+-----------------------------------------------------------------------------+\n"
          ]
        }
      ]
    },
    {
      "cell_type": "code",
      "metadata": {
        "id": "TIoBY1JNStuG"
      },
      "source": [
        "BS = 32\n",
        "img_height = 224\n",
        "img_width = 224\n",
        "\n",
        "INIT_LR = 0.01\n",
        "EPOCHS = 300\n",
        "\n",
        "SEED = 42"
      ],
      "execution_count": null,
      "outputs": []
    },
    {
      "cell_type": "code",
      "metadata": {
        "id": "KjE7UUnAe04E"
      },
      "source": [
        "#data_dir = list(paths.list_images(\"/content/drive/My Drive/mosquitoes-datasets/base01\"))\n",
        "train_dir = \"/content/drive/My Drive/mosquitoes-datasets/parted/base03/train\"\n",
        "validation_dir = \"/content/drive/My Drive/mosquitoes-datasets/parted/base03/validation\"\n",
        "test_dir = \"/content/drive/My Drive/mosquitoes-datasets/parted/base03/test\""
      ],
      "execution_count": null,
      "outputs": []
    },
    {
      "cell_type": "code",
      "metadata": {
        "id": "XeRPNQX1DoU6"
      },
      "source": [
        "\ttrain_datagen = ImageDataGenerator(\n",
        "    rescale=1./255,\n",
        "\t\trotation_range=20,\n",
        "\t\tzoom_range=0.15,\n",
        "\t\twidth_shift_range=0.2,\n",
        "\t\theight_shift_range=0.2,\n",
        "\t\tshear_range=0.15,\n",
        "\t\thorizontal_flip=True,\n",
        "\t\tfill_mode=\"nearest\",)"
      ],
      "execution_count": null,
      "outputs": []
    },
    {
      "cell_type": "code",
      "metadata": {
        "id": "eWoEhuzOKGTW"
      },
      "source": [
        "    val_datagen = ImageDataGenerator(\n",
        "    rescale=1./255,)"
      ],
      "execution_count": null,
      "outputs": []
    },
    {
      "cell_type": "code",
      "metadata": {
        "id": "jibYXQvnD-NW"
      },
      "source": [
        "    test_datagen = ImageDataGenerator(\n",
        "    rescale=1./255,)"
      ],
      "execution_count": null,
      "outputs": []
    },
    {
      "cell_type": "code",
      "metadata": {
        "colab": {
          "base_uri": "https://localhost:8080/"
        },
        "id": "dMj4FtSfS5Mt",
        "outputId": "e485f1bd-a5d6-44bc-b094-174323193e0d"
      },
      "source": [
        "train_ds = train_datagen.flow_from_directory(\n",
        "  directory = train_dir,\n",
        "  target_size=(img_height, img_width),\n",
        "  batch_size=BS,\n",
        "  seed=SEED,\n",
        "  class_mode='categorical',)"
      ],
      "execution_count": null,
      "outputs": [
        {
          "output_type": "stream",
          "name": "stdout",
          "text": [
            "Found 3802 images belonging to 6 classes.\n"
          ]
        }
      ]
    },
    {
      "cell_type": "code",
      "metadata": {
        "colab": {
          "base_uri": "https://localhost:8080/"
        },
        "id": "QQDvRPIeS9k2",
        "outputId": "1988491d-efa6-481c-9c15-1b1461e37196"
      },
      "source": [
        "val_ds = val_datagen.flow_from_directory(\n",
        "  directory = validation_dir,\n",
        "  target_size=(img_height, img_width),\n",
        "  batch_size=BS,\n",
        "  seed=SEED,\n",
        "  class_mode='categorical',)\n"
      ],
      "execution_count": null,
      "outputs": [
        {
          "output_type": "stream",
          "name": "stdout",
          "text": [
            "Found 815 images belonging to 6 classes.\n"
          ]
        }
      ]
    },
    {
      "cell_type": "code",
      "metadata": {
        "colab": {
          "base_uri": "https://localhost:8080/"
        },
        "outputId": "d3111691-bba3-40bb-b8b7-79f6755f37f4",
        "id": "HV6sTiecEQmp"
      },
      "source": [
        "test_ds = test_datagen.flow_from_directory(\n",
        "  directory = test_dir,\n",
        "  target_size=(img_height, img_width),\n",
        "  batch_size=BS,\n",
        "  shuffle=False,\n",
        "  seed=SEED,\n",
        "  class_mode='categorical',)\n"
      ],
      "execution_count": null,
      "outputs": [
        {
          "output_type": "stream",
          "name": "stdout",
          "text": [
            "Found 815 images belonging to 6 classes.\n"
          ]
        }
      ]
    },
    {
      "cell_type": "code",
      "metadata": {
        "colab": {
          "base_uri": "https://localhost:8080/"
        },
        "id": "9BOEyfufTYzk",
        "outputId": "427465d5-e231-4bd8-9128-3f2bbd5a2f11"
      },
      "source": [
        "class_names = train_ds.class_indices\n",
        "print(class_names)"
      ],
      "execution_count": null,
      "outputs": [
        {
          "output_type": "stream",
          "name": "stdout",
          "text": [
            "{'aae-femea': 0, 'aae-macho': 1, 'aal-femea': 2, 'aal-macho': 3, 'cq-femea': 4, 'cq-macho': 5}\n"
          ]
        }
      ]
    },
    {
      "cell_type": "code",
      "metadata": {
        "id": "RSkzdv8MD0tT",
        "colab": {
          "base_uri": "https://localhost:8080/"
        },
        "outputId": "2329c14b-ddea-4801-ed07-0e0622f7d66a"
      },
      "source": [
        "loss_fn = tf.keras.losses.CategoricalCrossentropy()\n",
        "\n",
        "opt = tf.keras.optimizers.SGD(lr=INIT_LR)"
      ],
      "execution_count": null,
      "outputs": [
        {
          "output_type": "stream",
          "name": "stderr",
          "text": [
            "/usr/local/lib/python3.7/dist-packages/keras/optimizer_v2/gradient_descent.py:102: UserWarning: The `lr` argument is deprecated, use `learning_rate` instead.\n",
            "  super(SGD, self).__init__(name, **kwargs)\n"
          ]
        }
      ]
    },
    {
      "cell_type": "code",
      "source": [
        "class_weights = class_weight.compute_class_weight(\n",
        "            class_weight = 'balanced',\n",
        "            classes = np.unique(train_ds.classes), \n",
        "            y = train_ds.classes)\n",
        "\n",
        "train_class_weights = dict(enumerate(class_weights))"
      ],
      "metadata": {
        "id": "F4HETeFS3DRh"
      },
      "execution_count": null,
      "outputs": []
    },
    {
      "cell_type": "code",
      "metadata": {
        "id": "I9AjYaVNBas_"
      },
      "source": [
        "model = tf.keras.applications.VGG16(include_top=True,\n",
        "                                             weights=None,\n",
        "                                             input_shape=(img_height,img_width,3),\n",
        "                                             classes=6)"
      ],
      "execution_count": null,
      "outputs": []
    },
    {
      "cell_type": "code",
      "metadata": {
        "id": "0pnsnQMZe05C"
      },
      "source": [
        "model.compile(loss=loss_fn,optimizer = opt, metrics = ['accuracy'])"
      ],
      "execution_count": null,
      "outputs": []
    },
    {
      "cell_type": "code",
      "metadata": {
        "id": "EoaCPDnvn3BB"
      },
      "source": [
        "# simple early stopping \n",
        "es = EarlyStopping(monitor='val_loss', mode='min', verbose=1, patience=20)"
      ],
      "execution_count": null,
      "outputs": []
    },
    {
      "cell_type": "code",
      "metadata": {
        "colab": {
          "base_uri": "https://localhost:8080/"
        },
        "id": "RfNtd1_Je05H",
        "outputId": "63cec913-1e01-414d-b572-30c2f093eefe"
      },
      "source": [
        "H = model.fit(train_ds,batch_size=BS,\n",
        "              validation_data=val_ds,\n",
        "              class_weight=train_class_weights,\n",
        "              epochs=EPOCHS,\n",
        "              callbacks=[es])"
      ],
      "execution_count": null,
      "outputs": [
        {
          "output_type": "stream",
          "name": "stdout",
          "text": [
            "Epoch 1/300\n",
            "119/119 [==============================] - 1045s 9s/step - loss: 1.7920 - accuracy: 0.1633 - val_loss: 1.7918 - val_accuracy: 0.1828\n",
            "Epoch 2/300\n",
            "119/119 [==============================] - 101s 851ms/step - loss: 1.7918 - accuracy: 0.1704 - val_loss: 1.7914 - val_accuracy: 0.1448\n",
            "Epoch 3/300\n",
            "119/119 [==============================] - 101s 850ms/step - loss: 1.7914 - accuracy: 0.1625 - val_loss: 1.7907 - val_accuracy: 0.3411\n",
            "Epoch 4/300\n",
            "119/119 [==============================] - 101s 851ms/step - loss: 1.7908 - accuracy: 0.2059 - val_loss: 1.7898 - val_accuracy: 0.2123\n",
            "Epoch 5/300\n",
            "119/119 [==============================] - 102s 859ms/step - loss: 1.7899 - accuracy: 0.2328 - val_loss: 1.7887 - val_accuracy: 0.2491\n",
            "Epoch 6/300\n",
            "119/119 [==============================] - 102s 854ms/step - loss: 1.7883 - accuracy: 0.2304 - val_loss: 1.7857 - val_accuracy: 0.3607\n",
            "Epoch 7/300\n",
            "119/119 [==============================] - 102s 857ms/step - loss: 1.7857 - accuracy: 0.2496 - val_loss: 1.7808 - val_accuracy: 0.3656\n",
            "Epoch 8/300\n",
            "119/119 [==============================] - 102s 855ms/step - loss: 1.7787 - accuracy: 0.2762 - val_loss: 1.7633 - val_accuracy: 0.3387\n",
            "Epoch 9/300\n",
            "119/119 [==============================] - 102s 853ms/step - loss: 1.7512 - accuracy: 0.2670 - val_loss: 1.6584 - val_accuracy: 0.3374\n",
            "Epoch 10/300\n",
            "119/119 [==============================] - 102s 853ms/step - loss: 1.7291 - accuracy: 0.2280 - val_loss: 1.6758 - val_accuracy: 0.3620\n",
            "Epoch 11/300\n",
            "119/119 [==============================] - 102s 854ms/step - loss: 1.7056 - accuracy: 0.2420 - val_loss: 1.7780 - val_accuracy: 0.2663\n",
            "Epoch 12/300\n",
            "119/119 [==============================] - 102s 853ms/step - loss: 1.7456 - accuracy: 0.2230 - val_loss: 1.3905 - val_accuracy: 0.3239\n",
            "Epoch 13/300\n",
            "119/119 [==============================] - 102s 853ms/step - loss: 1.4355 - accuracy: 0.3388 - val_loss: 1.3678 - val_accuracy: 0.3706\n",
            "Epoch 14/300\n",
            "119/119 [==============================] - 102s 853ms/step - loss: 1.3364 - accuracy: 0.3614 - val_loss: 1.1287 - val_accuracy: 0.3914\n",
            "Epoch 15/300\n",
            "119/119 [==============================] - 102s 855ms/step - loss: 1.2620 - accuracy: 0.3822 - val_loss: 1.1273 - val_accuracy: 0.4528\n",
            "Epoch 16/300\n",
            "119/119 [==============================] - 101s 850ms/step - loss: 1.2132 - accuracy: 0.4119 - val_loss: 1.0782 - val_accuracy: 0.4515\n",
            "Epoch 17/300\n",
            "119/119 [==============================] - 101s 852ms/step - loss: 1.2227 - accuracy: 0.4100 - val_loss: 1.1446 - val_accuracy: 0.4098\n",
            "Epoch 18/300\n",
            "119/119 [==============================] - 101s 847ms/step - loss: 1.1889 - accuracy: 0.4290 - val_loss: 1.0300 - val_accuracy: 0.5288\n",
            "Epoch 19/300\n",
            "119/119 [==============================] - 100s 843ms/step - loss: 1.1725 - accuracy: 0.4385 - val_loss: 1.0482 - val_accuracy: 0.5129\n",
            "Epoch 20/300\n",
            "119/119 [==============================] - 100s 837ms/step - loss: 1.1336 - accuracy: 0.4511 - val_loss: 1.1277 - val_accuracy: 0.4368\n",
            "Epoch 21/300\n",
            "119/119 [==============================] - 102s 853ms/step - loss: 1.1281 - accuracy: 0.4682 - val_loss: 0.9668 - val_accuracy: 0.5239\n",
            "Epoch 22/300\n",
            "119/119 [==============================] - 100s 843ms/step - loss: 1.1704 - accuracy: 0.4521 - val_loss: 1.0375 - val_accuracy: 0.4945\n",
            "Epoch 23/300\n",
            "119/119 [==============================] - 100s 843ms/step - loss: 1.1095 - accuracy: 0.4753 - val_loss: 0.9592 - val_accuracy: 0.6037\n",
            "Epoch 24/300\n",
            "119/119 [==============================] - 101s 846ms/step - loss: 1.1021 - accuracy: 0.4861 - val_loss: 1.0254 - val_accuracy: 0.4871\n",
            "Epoch 25/300\n",
            "119/119 [==============================] - 102s 857ms/step - loss: 1.0703 - accuracy: 0.4982 - val_loss: 0.9476 - val_accuracy: 0.5902\n",
            "Epoch 26/300\n",
            "119/119 [==============================] - 103s 869ms/step - loss: 1.0752 - accuracy: 0.5039 - val_loss: 1.1374 - val_accuracy: 0.4724\n",
            "Epoch 27/300\n",
            "119/119 [==============================] - 103s 867ms/step - loss: 1.0368 - accuracy: 0.5208 - val_loss: 0.9338 - val_accuracy: 0.5301\n",
            "Epoch 28/300\n",
            "119/119 [==============================] - 103s 865ms/step - loss: 1.0537 - accuracy: 0.5063 - val_loss: 0.9103 - val_accuracy: 0.5534\n",
            "Epoch 29/300\n",
            "119/119 [==============================] - 103s 865ms/step - loss: 1.0237 - accuracy: 0.5203 - val_loss: 0.8795 - val_accuracy: 0.6196\n",
            "Epoch 30/300\n",
            "119/119 [==============================] - 103s 862ms/step - loss: 1.0065 - accuracy: 0.5379 - val_loss: 0.8929 - val_accuracy: 0.6319\n",
            "Epoch 31/300\n",
            "119/119 [==============================] - 103s 869ms/step - loss: 1.0057 - accuracy: 0.5305 - val_loss: 0.9544 - val_accuracy: 0.5571\n",
            "Epoch 32/300\n",
            "119/119 [==============================] - 102s 861ms/step - loss: 1.0290 - accuracy: 0.5376 - val_loss: 0.9017 - val_accuracy: 0.5902\n",
            "Epoch 33/300\n",
            "119/119 [==============================] - 102s 856ms/step - loss: 1.0073 - accuracy: 0.5379 - val_loss: 0.9446 - val_accuracy: 0.5988\n",
            "Epoch 34/300\n",
            "119/119 [==============================] - 102s 858ms/step - loss: 0.9893 - accuracy: 0.5481 - val_loss: 1.3388 - val_accuracy: 0.5055\n",
            "Epoch 35/300\n",
            "119/119 [==============================] - 104s 872ms/step - loss: 0.9781 - accuracy: 0.5521 - val_loss: 1.0012 - val_accuracy: 0.5546\n",
            "Epoch 36/300\n",
            "119/119 [==============================] - 104s 875ms/step - loss: 0.9722 - accuracy: 0.5660 - val_loss: 0.8542 - val_accuracy: 0.6196\n",
            "Epoch 37/300\n",
            "119/119 [==============================] - 99s 831ms/step - loss: 0.9359 - accuracy: 0.5850 - val_loss: 0.8282 - val_accuracy: 0.6331\n",
            "Epoch 38/300\n",
            "119/119 [==============================] - 99s 831ms/step - loss: 0.9302 - accuracy: 0.5702 - val_loss: 0.8300 - val_accuracy: 0.6344\n",
            "Epoch 39/300\n",
            "119/119 [==============================] - 98s 824ms/step - loss: 0.9361 - accuracy: 0.5773 - val_loss: 0.8527 - val_accuracy: 0.6245\n",
            "Epoch 40/300\n",
            "119/119 [==============================] - 100s 837ms/step - loss: 0.9159 - accuracy: 0.5768 - val_loss: 0.9141 - val_accuracy: 0.5975\n",
            "Epoch 41/300\n",
            "119/119 [==============================] - 99s 830ms/step - loss: 0.9329 - accuracy: 0.5805 - val_loss: 0.8423 - val_accuracy: 0.6601\n",
            "Epoch 42/300\n",
            "119/119 [==============================] - 99s 827ms/step - loss: 0.9168 - accuracy: 0.5897 - val_loss: 0.7375 - val_accuracy: 0.7006\n",
            "Epoch 43/300\n",
            "119/119 [==============================] - 99s 829ms/step - loss: 0.8906 - accuracy: 0.6034 - val_loss: 0.8699 - val_accuracy: 0.5939\n",
            "Epoch 44/300\n",
            "119/119 [==============================] - 99s 828ms/step - loss: 0.8823 - accuracy: 0.5957 - val_loss: 0.9653 - val_accuracy: 0.5988\n",
            "Epoch 45/300\n",
            "119/119 [==============================] - 99s 830ms/step - loss: 0.8627 - accuracy: 0.6097 - val_loss: 0.7759 - val_accuracy: 0.5988\n",
            "Epoch 46/300\n",
            "119/119 [==============================] - 98s 822ms/step - loss: 0.8809 - accuracy: 0.5897 - val_loss: 0.7275 - val_accuracy: 0.6908\n",
            "Epoch 47/300\n",
            "119/119 [==============================] - 99s 830ms/step - loss: 0.8672 - accuracy: 0.6076 - val_loss: 0.8424 - val_accuracy: 0.6442\n",
            "Epoch 48/300\n",
            "119/119 [==============================] - 100s 837ms/step - loss: 0.8634 - accuracy: 0.5931 - val_loss: 0.8598 - val_accuracy: 0.6294\n",
            "Epoch 49/300\n",
            "119/119 [==============================] - 98s 821ms/step - loss: 0.8540 - accuracy: 0.6092 - val_loss: 0.7105 - val_accuracy: 0.7141\n",
            "Epoch 50/300\n",
            "119/119 [==============================] - 98s 819ms/step - loss: 0.8438 - accuracy: 0.6155 - val_loss: 0.8148 - val_accuracy: 0.6442\n",
            "Epoch 51/300\n",
            "119/119 [==============================] - 98s 819ms/step - loss: 0.8359 - accuracy: 0.6273 - val_loss: 0.8398 - val_accuracy: 0.6503\n",
            "Epoch 52/300\n",
            "119/119 [==============================] - 97s 817ms/step - loss: 0.8137 - accuracy: 0.6370 - val_loss: 0.9264 - val_accuracy: 0.6160\n",
            "Epoch 53/300\n",
            "119/119 [==============================] - 98s 824ms/step - loss: 0.8151 - accuracy: 0.6234 - val_loss: 0.6824 - val_accuracy: 0.7190\n",
            "Epoch 54/300\n",
            "119/119 [==============================] - 97s 818ms/step - loss: 0.8225 - accuracy: 0.6244 - val_loss: 0.7730 - val_accuracy: 0.6380\n",
            "Epoch 55/300\n",
            "119/119 [==============================] - 100s 841ms/step - loss: 0.8128 - accuracy: 0.6302 - val_loss: 0.6732 - val_accuracy: 0.6834\n",
            "Epoch 56/300\n",
            "119/119 [==============================] - 99s 827ms/step - loss: 0.8317 - accuracy: 0.6436 - val_loss: 0.6739 - val_accuracy: 0.7153\n",
            "Epoch 57/300\n",
            "119/119 [==============================] - 98s 824ms/step - loss: 0.7929 - accuracy: 0.6360 - val_loss: 0.6575 - val_accuracy: 0.7448\n",
            "Epoch 58/300\n",
            "119/119 [==============================] - 98s 820ms/step - loss: 0.8098 - accuracy: 0.6336 - val_loss: 0.6429 - val_accuracy: 0.7337\n",
            "Epoch 59/300\n",
            "119/119 [==============================] - 98s 822ms/step - loss: 0.8457 - accuracy: 0.6260 - val_loss: 0.7062 - val_accuracy: 0.7104\n",
            "Epoch 60/300\n",
            "119/119 [==============================] - 98s 826ms/step - loss: 0.8024 - accuracy: 0.6407 - val_loss: 0.7065 - val_accuracy: 0.6982\n",
            "Epoch 61/300\n",
            "119/119 [==============================] - 99s 829ms/step - loss: 0.7959 - accuracy: 0.6399 - val_loss: 0.8016 - val_accuracy: 0.6356\n",
            "Epoch 62/300\n",
            "119/119 [==============================] - 98s 826ms/step - loss: 0.7791 - accuracy: 0.6581 - val_loss: 0.6543 - val_accuracy: 0.7497\n",
            "Epoch 63/300\n",
            "119/119 [==============================] - 98s 820ms/step - loss: 0.7742 - accuracy: 0.6526 - val_loss: 1.0566 - val_accuracy: 0.5448\n",
            "Epoch 64/300\n",
            "119/119 [==============================] - 98s 824ms/step - loss: 0.7739 - accuracy: 0.6612 - val_loss: 0.7198 - val_accuracy: 0.6798\n",
            "Epoch 65/300\n",
            "119/119 [==============================] - 98s 823ms/step - loss: 0.7674 - accuracy: 0.6591 - val_loss: 0.6423 - val_accuracy: 0.7190\n",
            "Epoch 66/300\n",
            "119/119 [==============================] - 97s 818ms/step - loss: 0.7537 - accuracy: 0.6594 - val_loss: 0.6259 - val_accuracy: 0.7178\n",
            "Epoch 67/300\n",
            "119/119 [==============================] - 98s 819ms/step - loss: 0.7341 - accuracy: 0.6746 - val_loss: 0.6045 - val_accuracy: 0.7423\n",
            "Epoch 68/300\n",
            "119/119 [==============================] - 97s 817ms/step - loss: 0.7432 - accuracy: 0.6689 - val_loss: 0.6401 - val_accuracy: 0.7252\n",
            "Epoch 69/300\n",
            "119/119 [==============================] - 98s 820ms/step - loss: 0.7558 - accuracy: 0.6625 - val_loss: 0.5801 - val_accuracy: 0.7448\n",
            "Epoch 70/300\n",
            "119/119 [==============================] - 98s 823ms/step - loss: 0.7434 - accuracy: 0.6783 - val_loss: 0.6131 - val_accuracy: 0.7399\n",
            "Epoch 71/300\n",
            "119/119 [==============================] - 98s 824ms/step - loss: 0.7514 - accuracy: 0.6723 - val_loss: 0.6009 - val_accuracy: 0.7190\n",
            "Epoch 72/300\n",
            "119/119 [==============================] - 100s 838ms/step - loss: 0.7451 - accuracy: 0.6712 - val_loss: 0.6510 - val_accuracy: 0.7460\n",
            "Epoch 73/300\n",
            "119/119 [==============================] - 98s 825ms/step - loss: 0.7120 - accuracy: 0.6854 - val_loss: 0.5445 - val_accuracy: 0.7767\n",
            "Epoch 74/300\n",
            "119/119 [==============================] - 98s 821ms/step - loss: 0.7070 - accuracy: 0.6820 - val_loss: 0.5708 - val_accuracy: 0.7411\n",
            "Epoch 75/300\n",
            "119/119 [==============================] - 98s 821ms/step - loss: 0.7002 - accuracy: 0.6931 - val_loss: 0.7122 - val_accuracy: 0.6883\n",
            "Epoch 76/300\n",
            "119/119 [==============================] - 98s 826ms/step - loss: 0.7041 - accuracy: 0.6862 - val_loss: 0.5712 - val_accuracy: 0.7558\n",
            "Epoch 77/300\n",
            "119/119 [==============================] - 99s 830ms/step - loss: 0.6943 - accuracy: 0.6867 - val_loss: 1.1366 - val_accuracy: 0.5939\n",
            "Epoch 78/300\n",
            "119/119 [==============================] - 98s 823ms/step - loss: 0.6891 - accuracy: 0.7020 - val_loss: 0.5557 - val_accuracy: 0.7546\n",
            "Epoch 79/300\n",
            "119/119 [==============================] - 98s 821ms/step - loss: 0.6927 - accuracy: 0.6996 - val_loss: 0.6244 - val_accuracy: 0.7583\n",
            "Epoch 80/300\n",
            "119/119 [==============================] - 98s 825ms/step - loss: 0.6797 - accuracy: 0.7073 - val_loss: 0.5717 - val_accuracy: 0.7607\n",
            "Epoch 81/300\n",
            "119/119 [==============================] - 98s 823ms/step - loss: 0.6738 - accuracy: 0.6973 - val_loss: 0.7028 - val_accuracy: 0.7043\n",
            "Epoch 82/300\n",
            "119/119 [==============================] - 100s 837ms/step - loss: 0.6757 - accuracy: 0.7117 - val_loss: 0.5884 - val_accuracy: 0.7362\n",
            "Epoch 83/300\n",
            "119/119 [==============================] - 98s 823ms/step - loss: 0.9142 - accuracy: 0.6828 - val_loss: 1.4507 - val_accuracy: 0.3853\n",
            "Epoch 84/300\n",
            "119/119 [==============================] - 98s 824ms/step - loss: 1.1053 - accuracy: 0.4958 - val_loss: 0.8549 - val_accuracy: 0.6184\n",
            "Epoch 85/300\n",
            "119/119 [==============================] - 99s 829ms/step - loss: 0.9547 - accuracy: 0.5689 - val_loss: 0.7267 - val_accuracy: 0.6748\n",
            "Epoch 86/300\n",
            "119/119 [==============================] - 100s 844ms/step - loss: 0.8750 - accuracy: 0.6031 - val_loss: 0.6802 - val_accuracy: 0.7031\n",
            "Epoch 87/300\n",
            "119/119 [==============================] - 100s 837ms/step - loss: 0.8155 - accuracy: 0.6355 - val_loss: 0.9922 - val_accuracy: 0.5448\n",
            "Epoch 88/300\n",
            "119/119 [==============================] - 99s 829ms/step - loss: 0.8270 - accuracy: 0.6273 - val_loss: 0.6595 - val_accuracy: 0.7350\n",
            "Epoch 89/300\n",
            "119/119 [==============================] - 99s 833ms/step - loss: 0.7835 - accuracy: 0.6586 - val_loss: 0.7253 - val_accuracy: 0.6896\n",
            "Epoch 90/300\n",
            "119/119 [==============================] - 100s 837ms/step - loss: 0.7748 - accuracy: 0.6444 - val_loss: 0.6023 - val_accuracy: 0.7620\n",
            "Epoch 91/300\n",
            "119/119 [==============================] - 100s 836ms/step - loss: 0.7837 - accuracy: 0.6533 - val_loss: 0.5724 - val_accuracy: 0.7706\n",
            "Epoch 92/300\n",
            "119/119 [==============================] - 100s 843ms/step - loss: 0.7400 - accuracy: 0.6662 - val_loss: 0.6540 - val_accuracy: 0.7227\n",
            "Epoch 93/300\n",
            "119/119 [==============================] - 100s 843ms/step - loss: 0.7225 - accuracy: 0.6815 - val_loss: 0.5619 - val_accuracy: 0.7632\n",
            "Epoch 00093: early stopping\n"
          ]
        }
      ]
    },
    {
      "cell_type": "code",
      "metadata": {
        "id": "g4F97Eq1e05b",
        "colab": {
          "base_uri": "https://localhost:8080/",
          "height": 295
        },
        "outputId": "a6480a0b-448c-4ca1-8ea1-f26bdf6a5b68"
      },
      "source": [
        "if es.stopped_epoch!=0:\n",
        "  EPOCHS = es.stopped_epoch+1\n",
        "\n",
        "  \n",
        "# plot the training loss and accuracy\n",
        "N = np.arange(0, EPOCHS)\n",
        "#plt.style.use(\"ggplot\")\n",
        "plt.figure()\n",
        "plt.plot(N, H.history[\"loss\"], label=\"train_loss\")\n",
        "plt.plot(N, H.history[\"val_loss\"], label=\"val_loss\")\n",
        "plt.plot(N, H.history[\"accuracy\"], label=\"train_acc\")\n",
        "plt.plot(N, H.history[\"val_accuracy\"], label=\"val_acc\")\n",
        "plt.title(\"Training Loss and Accuracy on Dataset\")\n",
        "plt.xlabel(\"Epoch #\")\n",
        "plt.ylabel(\"Loss/Accuracy\")\n",
        "plt.legend(loc=\"lower left\")\n",
        "#plt.savefig(\"plot.png\")\n",
        "plt.show()"
      ],
      "execution_count": null,
      "outputs": [
        {
          "output_type": "display_data",
          "data": {
            "image/png": "[encoded data removed]",
            "text/plain": [
              "<Figure size 432x288 with 1 Axes>"
            ]
          },
          "metadata": {
            "needs_background": "light"
          }
        }
      ]
    },
    {
      "cell_type": "markdown",
      "metadata": {
        "id": "MxQXt7ZEJA6V"
      },
      "source": [
        "##Teste"
      ]
    },
    {
      "cell_type": "code",
      "source": [
        ""
      ],
      "metadata": {
        "id": "63V6KJVE5kGv"
      },
      "execution_count": null,
      "outputs": []
    },
    {
      "cell_type": "markdown",
      "source": [
        "## Get the accuracy score"
      ],
      "metadata": {
        "id": "kOxNG3EvJTck"
      }
    },
    {
      "cell_type": "code",
      "metadata": {
        "id": "v65JmWyDI_2c",
        "colab": {
          "base_uri": "https://localhost:8080/"
        },
        "outputId": "3147c6ae-cb81-42a5-ba02-39a629300341"
      },
      "source": [
        "test_score = model.evaluate(test_ds)\n",
        "\n",
        "\n",
        "\n",
        "print(\"[INFO] accuracy: {:.2f}%\".format(test_score[1] * 100)) \n",
        "\n",
        "print(\"[INFO] Loss: \",test_score[0])"
      ],
      "execution_count": null,
      "outputs": [
        {
          "output_type": "stream",
          "name": "stdout",
          "text": [
            "26/26 [==============================] - 196s 8s/step - loss: 0.5953 - accuracy: 0.7423\n",
            "[INFO] accuracy: 74.23%\n",
            "[INFO] Loss:  0.5952956676483154\n"
          ]
        }
      ]
    },
    {
      "cell_type": "markdown",
      "source": [
        "## Plot the confusion matrix. Set Normalize = True/False"
      ],
      "metadata": {
        "id": "RGgaG6rbJO9K"
      }
    },
    {
      "cell_type": "code",
      "source": [
        "def plot_confusion_matrix(cm, classes, normalize=True, title='Confusion matrix', cmap=plt.cm.Blues):\n",
        "\n",
        "    \"\"\"\n",
        "\n",
        "    This function prints and plots the confusion matrix.\n",
        "\n",
        "    Normalization can be applied by setting `normalize=True`.\n",
        "\n",
        "    \"\"\"\n",
        "\n",
        "    plt.figure(figsize=(10,10))\n",
        "\n",
        "\n",
        "\n",
        "    plt.imshow(cm, interpolation='nearest', cmap=cmap)\n",
        "\n",
        "    plt.title(title)\n",
        "\n",
        "    plt.colorbar()\n",
        "\n",
        "\n",
        "\n",
        "    tick_marks = np.arange(len(classes))\n",
        "\n",
        "    plt.xticks(tick_marks, classes, rotation=45)\n",
        "\n",
        "    plt.yticks(tick_marks, classes)\n",
        "\n",
        "\n",
        "\n",
        "    if normalize:\n",
        "\n",
        "        cm = cm.astype('float') / cm.sum(axis=1)[:, np.newaxis]\n",
        "\n",
        "        cm = np.around(cm, decimals=2)\n",
        "\n",
        "        cm[np.isnan(cm)] = 0.0\n",
        "\n",
        "        print(\"Normalized confusion matrix\")\n",
        "\n",
        "    else:\n",
        "\n",
        "        print('Confusion matrix, without normalization')\n",
        "\n",
        "    thresh = cm.max() / 2.\n",
        "\n",
        "    for i, j in itertools.product(range(cm.shape[0]), range(cm.shape[1])):\n",
        "\n",
        "        plt.text(j, i, cm[i, j],\n",
        "\n",
        "                 horizontalalignment=\"center\",\n",
        "\n",
        "                 color=\"white\" if cm[i, j] > thresh else \"black\")\n",
        "\n",
        "    plt.tight_layout()\n",
        "\n",
        "    plt.ylabel('True label')\n",
        "\n",
        "    plt.xlabel('Predicted label')"
      ],
      "metadata": {
        "id": "xAK6s1aqJRo4"
      },
      "execution_count": null,
      "outputs": []
    },
    {
      "cell_type": "markdown",
      "source": [
        "## Print the Target names"
      ],
      "metadata": {
        "id": "vEhWo093JptY"
      }
    },
    {
      "cell_type": "code",
      "source": [
        "target_names = []\n",
        "\n",
        "for key in train_ds.class_indices:\n",
        "\n",
        "    target_names.append(key)\n",
        "\n",
        "\n",
        "\n",
        "print(target_names)"
      ],
      "metadata": {
        "id": "pE-j3KV9JrrJ",
        "colab": {
          "base_uri": "https://localhost:8080/"
        },
        "outputId": "8c0cd632-d1a1-4c10-f1f8-b5324dd63254"
      },
      "execution_count": null,
      "outputs": [
        {
          "output_type": "stream",
          "name": "stdout",
          "text": [
            "['aae-femea', 'aae-macho', 'aal-femea', 'aal-macho', 'cq-femea', 'cq-macho']\n"
          ]
        }
      ]
    },
    {
      "cell_type": "markdown",
      "source": [
        "## Confution Matrix"
      ],
      "metadata": {
        "id": "exHqdu21J2Vg"
      }
    },
    {
      "cell_type": "code",
      "source": [
        "Y_pred = model.predict(test_ds)\n",
        "\n",
        "y_pred = np.argmax(Y_pred, axis=1)\n",
        "\n",
        "print('Confusion Matrix')\n",
        "\n",
        "cm = confusion_matrix(test_ds.classes, y_pred)\n",
        "\n",
        "plot_confusion_matrix(cm, target_names, False, title='Confusion Matrix')"
      ],
      "metadata": {
        "id": "JPcGgtFfJ4Jw",
        "colab": {
          "base_uri": "https://localhost:8080/",
          "height": 764
        },
        "outputId": "7e070ba7-7dba-4136-e07f-6f328c190ccf"
      },
      "execution_count": null,
      "outputs": [
        {
          "output_type": "stream",
          "name": "stdout",
          "text": [
            "Confusion Matrix\n",
            "Confusion matrix, without normalization\n"
          ]
        },
        {
          "output_type": "display_data",
          "data": {
            "image/png": "[encoded data removed]",
            "text/plain": [
              "<Figure size 720x720 with 2 Axes>"
            ]
          },
          "metadata": {
            "needs_background": "light"
          }
        }
      ]
    },
    {
      "cell_type": "code",
      "source": [
        ""
      ],
      "metadata": {
        "id": "uSr3v14wprap"
      },
      "execution_count": null,
      "outputs": []
    },
    {
      "cell_type": "markdown",
      "source": [
        "\n",
        "\n"
      ],
      "metadata": {
        "id": "EO9F6yAtpe7S"
      }
    },
    {
      "cell_type": "markdown",
      "source": [
        "from sklearn.metrics import plot_confusion_matrix\n",
        "plot_confusion_matrix(model, X_test, y_test)"
      ],
      "metadata": {
        "id": "TZS2xX0_pUlj"
      }
    },
    {
      "cell_type": "markdown",
      "source": [
        "## Print Classification Report"
      ],
      "metadata": {
        "id": "uN1GHmZdKDR7"
      }
    },
    {
      "cell_type": "code",
      "source": [
        "print('Classification Report')\n",
        "\n",
        "print(classification_report(test_ds.classes, y_pred, target_names=target_names))"
      ],
      "metadata": {
        "id": "kLemcBL4KE8M",
        "colab": {
          "base_uri": "https://localhost:8080/"
        },
        "outputId": "e8318baa-e294-4a12-fcc8-d1c78e48cfb5"
      },
      "execution_count": null,
      "outputs": [
        {
          "output_type": "stream",
          "name": "stdout",
          "text": [
            "Classification Report\n",
            "              precision    recall  f1-score   support\n",
            "\n",
            "   aae-femea       0.86      0.87      0.86       150\n",
            "   aae-macho       0.77      0.75      0.76       150\n",
            "   aal-femea       0.81      0.88      0.84       104\n",
            "   aal-macho       0.67      0.64      0.65       111\n",
            "    cq-femea       0.79      0.39      0.52       150\n",
            "    cq-macho       0.63      0.95      0.75       150\n",
            "\n",
            "    accuracy                           0.74       815\n",
            "   macro avg       0.76      0.74      0.73       815\n",
            "weighted avg       0.76      0.74      0.73       815\n",
            "\n"
          ]
        }
      ]
    },
    {
      "cell_type": "markdown",
      "source": [
        "## Serialize model to JSON"
      ],
      "metadata": {
        "id": "rpDPIPRN4aHw"
      }
    },
    {
      "cell_type": "code",
      "source": [
        "model_json = model.to_json()\n",
        "with open(\"model.json\", \"w\") as json_file:\n",
        "    json_file.write(model_json)\n",
        "# serialize weights to HDF5\n",
        "model.save_weights(\"model.h5\")\n",
        "print(\"Saved model to disk\")"
      ],
      "metadata": {
        "id": "JIRTRbu74il0",
        "colab": {
          "base_uri": "https://localhost:8080/"
        },
        "outputId": "29c5b471-cc2a-43ea-8a73-9ee80e347d7c"
      },
      "execution_count": null,
      "outputs": [
        {
          "output_type": "stream",
          "name": "stdout",
          "text": [
            "Saved model to disk\n"
          ]
        }
      ]
    },
    {
      "cell_type": "markdown",
      "source": [
        "## Curva ROC"
      ],
      "metadata": {
        "id": "_cwFnb9Lx5z2"
      }
    },
    {
      "cell_type": "code",
      "source": [
        "#ROC CURVE\n",
        "from sklearn.metrics import roc_curve\n",
        "\n",
        "\n",
        "\n",
        "# roc curve for classes\n",
        "fpr = {}\n",
        "tpr = {}\n",
        "thresh ={}\n",
        "\n",
        "n_class = 6\n",
        "\n",
        "for i in range(n_class):    \n",
        "    fpr[i], tpr[i], thresh[i] = roc_curve(test_ds.classes, Y_pred[:,i], pos_label=i)\n",
        "    \n",
        "# plotting    \n",
        "plt.plot(fpr[0], tpr[0], linestyle='--',color='orange', label='Class aae-femea vs Rest')\n",
        "plt.plot(fpr[1], tpr[1], linestyle='--',color='green', label='Class aae-macho vs Rest')\n",
        "plt.plot(fpr[2], tpr[2], linestyle='--',color='blue', label='Class aal-femea vs Rest')\n",
        "plt.plot(fpr[3], tpr[3], linestyle='--',color='black', label='Class aal-macho vs Rest')\n",
        "plt.plot(fpr[4], tpr[4], linestyle='--',color='red', label='Class cq-femea vs Rest')\n",
        "plt.plot(fpr[5], tpr[5], linestyle='--',color='brown', label='Class cq-macho vs Rest')\n",
        "\n",
        "\n",
        "plt.title('Multiclass ROC curve')\n",
        "plt.xlabel('False Positive Rate')\n",
        "plt.ylabel('True Positive rate')\n",
        "plt.legend(loc='best')\n",
        "plt.savefig('Multiclass ROC',dpi=300);"
      ],
      "metadata": {
        "id": "gJMkxxR9x5WO",
        "colab": {
          "base_uri": "https://localhost:8080/",
          "height": 295
        },
        "outputId": "5b7896e9-3a1d-411b-f374-73463dd4cdbf"
      },
      "execution_count": null,
      "outputs": [
        {
          "output_type": "display_data",
          "data": {
            "image/png": "[encoded data removed]",
            "text/plain": [
              "<Figure size 432x288 with 1 Axes>"
            ]
          },
          "metadata": {
            "needs_background": "light"
          }
        }
      ]
    }
  ]
}