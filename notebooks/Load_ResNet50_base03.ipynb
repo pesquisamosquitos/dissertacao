{
  "nbformat": 4,
  "nbformat_minor": 0,
  "metadata": {
    "accelerator": "GPU",
    "colab": {
      "name": "Load ResNet50 base03.ipynb",
      "provenance": [],
      "collapsed_sections": []
    },
    "kernelspec": {
      "display_name": "Python 3",
      "name": "python3"
    }
  },
  "cells": [
    {
      "cell_type": "code",
      "metadata": {
        "colab": {
          "base_uri": "https://localhost:8080/"
        },
        "id": "TflFz__Mj5AD",
        "outputId": "0439eb6a-526b-4ea8-e9af-145f812768f0"
      },
      "source": [
        "from google.colab import drive\n",
        "drive.mount('/content/drive')"
      ],
      "execution_count": null,
      "outputs": [
        {
          "output_type": "stream",
          "name": "stdout",
          "text": [
            "Mounted at /content/drive\n"
          ]
        }
      ]
    },
    {
      "cell_type": "code",
      "metadata": {
        "id": "uwQRKadne03q"
      },
      "source": [
        "%tensorflow_version 2.x\n",
        "import tensorflow as tf\n",
        "import numpy as np\n",
        "from tensorflow.keras.preprocessing.image import ImageDataGenerator\n",
        "from keras.utils import np_utils\n",
        "import itertools\n",
        "\n",
        "import matplotlib.pyplot as plt\n",
        "from sklearn.metrics import classification_report, confusion_matrix"
      ],
      "execution_count": null,
      "outputs": []
    },
    {
      "cell_type": "code",
      "metadata": {
        "id": "TIoBY1JNStuG"
      },
      "source": [
        "BS = 32\n",
        "img_height = 128\n",
        "img_width = 128\n",
        "\n",
        "INIT_LR = 0.001\n",
        "EPOCHS = 300\n",
        "SEED = 42"
      ],
      "execution_count": null,
      "outputs": []
    },
    {
      "cell_type": "code",
      "metadata": {
        "id": "KjE7UUnAe04E"
      },
      "source": [
        "resnet50_base03_dir = \"/content/drive/My Drive/models/ResNet50-base03/\"\n",
        "test_dir = \"/content/drive/My Drive/mosquitoes-datasets/parted/base03/test\""
      ],
      "execution_count": null,
      "outputs": []
    },
    {
      "cell_type": "code",
      "metadata": {
        "id": "jibYXQvnD-NW"
      },
      "source": [
        "test_datagen = ImageDataGenerator(rescale=1./255,)"
      ],
      "execution_count": null,
      "outputs": []
    },
    {
      "cell_type": "code",
      "metadata": {
        "colab": {
          "base_uri": "https://localhost:8080/"
        },
        "outputId": "8082452a-bea1-48c8-bf44-1c4f7312204f",
        "id": "HV6sTiecEQmp"
      },
      "source": [
        "test_ds = test_datagen.flow_from_directory(\n",
        "  directory = test_dir,\n",
        "  target_size=(img_height, img_width),\n",
        "  batch_size=BS,\n",
        "  seed=SEED,\n",
        "  shuffle=False,\n",
        "  class_mode='categorical',)\n"
      ],
      "execution_count": null,
      "outputs": [
        {
          "output_type": "stream",
          "name": "stdout",
          "text": [
            "Found 815 images belonging to 6 classes.\n"
          ]
        }
      ]
    },
    {
      "cell_type": "code",
      "metadata": {
        "id": "RSkzdv8MD0tT"
      },
      "source": [
        "loss_fn = tf.keras.losses.CategoricalCrossentropy()\n",
        "opt = tf.keras.optimizers.SGD(learning_rate=INIT_LR, momentum=0.9, decay=INIT_LR / EPOCHS)\n"
      ],
      "execution_count": null,
      "outputs": []
    },
    {
      "cell_type": "markdown",
      "source": [
        "## Load"
      ],
      "metadata": {
        "id": "jstR2edavgjy"
      }
    },
    {
      "cell_type": "code",
      "source": [
        "test_ds.class_indices"
      ],
      "metadata": {
        "colab": {
          "base_uri": "https://localhost:8080/"
        },
        "id": "HlRQLrRxMSen",
        "outputId": "8aebce8a-5cb1-4bdf-904d-1b1e6be2972f"
      },
      "execution_count": null,
      "outputs": [
        {
          "output_type": "execute_result",
          "data": {
            "text/plain": [
              "{'aae-femea': 0,\n",
              " 'aae-macho': 1,\n",
              " 'aal-femea': 2,\n",
              " 'aal-macho': 3,\n",
              " 'cq-femea': 4,\n",
              " 'cq-macho': 5}"
            ]
          },
          "metadata": {},
          "execution_count": 10
        }
      ]
    },
    {
      "cell_type": "code",
      "source": [
        "target_names = []\n",
        "\n",
        "for key in test_ds.class_indices:\n",
        "\n",
        "    target_names.append(key)\n",
        "\n",
        "\n",
        "\n",
        "print(target_names)"
      ],
      "metadata": {
        "colab": {
          "base_uri": "https://localhost:8080/"
        },
        "outputId": "46721d82-3ab9-4dbe-c9f9-019c0ad376e9",
        "id": "5pxjTh6tyWx5"
      },
      "execution_count": null,
      "outputs": [
        {
          "output_type": "stream",
          "name": "stdout",
          "text": [
            "['aae-femea', 'aae-macho', 'aal-femea', 'aal-macho', 'cq-femea', 'cq-macho']\n"
          ]
        }
      ]
    },
    {
      "cell_type": "code",
      "metadata": {
        "id": "msbntzQ8e05m",
        "colab": {
          "base_uri": "https://localhost:8080/"
        },
        "outputId": "ab1aed45-ad37-43f3-d25b-ac648b444e10"
      },
      "source": [
        "from keras.models import model_from_json\n",
        "# load json and create model\n",
        "json_file = open(resnet50_base03_dir+'model.json', 'r')\n",
        "loaded_model_json = json_file.read()\n",
        "json_file.close()\n",
        "loaded_model = model_from_json(loaded_model_json)\n",
        "# load weights into new model\n",
        "loaded_model.load_weights(resnet50_base03_dir+\"model.h5\")\n",
        "print(\"Loaded model from disk\")"
      ],
      "execution_count": null,
      "outputs": [
        {
          "output_type": "stream",
          "name": "stdout",
          "text": [
            "Loaded model from disk\n"
          ]
        }
      ]
    },
    {
      "cell_type": "code",
      "source": [
        "def plot_confusion_matrix(cm, classes, normalize=True, title='Confusion matrix', cmap=plt.cm.Blues):\n",
        "\n",
        "    \"\"\"\n",
        "\n",
        "    This function prints and plots the confusion matrix.\n",
        "\n",
        "    Normalization can be applied by setting `normalize=True`.\n",
        "\n",
        "    \"\"\"\n",
        "\n",
        "    plt.figure(figsize=(10,10))\n",
        "\n",
        "\n",
        "\n",
        "    plt.imshow(cm, interpolation='nearest', cmap=cmap)\n",
        "\n",
        "    plt.title(title)\n",
        "\n",
        "    plt.colorbar()\n",
        "\n",
        "\n",
        "\n",
        "    tick_marks = np.arange(len(classes))\n",
        "\n",
        "    plt.xticks(tick_marks, classes, rotation=45)\n",
        "\n",
        "    plt.yticks(tick_marks, classes)\n",
        "\n",
        "\n",
        "\n",
        "    if normalize:\n",
        "\n",
        "        cm = cm.astype('float') / cm.sum(axis=1)[:, np.newaxis]\n",
        "\n",
        "        cm = np.around(cm, decimals=2)\n",
        "\n",
        "        cm[np.isnan(cm)] = 0.0\n",
        "\n",
        "        print(\"Normalized confusion matrix\")\n",
        "\n",
        "    else:\n",
        "\n",
        "        print('Confusion matrix, without normalization')\n",
        "\n",
        "    thresh = cm.max() / 2.\n",
        "\n",
        "    for i, j in itertools.product(range(cm.shape[0]), range(cm.shape[1])):\n",
        "\n",
        "        plt.text(j, i, cm[i, j],\n",
        "\n",
        "                 horizontalalignment=\"center\",\n",
        "\n",
        "                 color=\"white\" if cm[i, j] > thresh else \"black\")\n",
        "\n",
        "    plt.tight_layout()\n",
        "\n",
        "    plt.ylabel('True label')\n",
        "\n",
        "    plt.xlabel('Predicted label')"
      ],
      "metadata": {
        "id": "xAK6s1aqJRo4"
      },
      "execution_count": null,
      "outputs": []
    },
    {
      "cell_type": "code",
      "metadata": {
        "id": "TY38IyCHe05r",
        "colab": {
          "base_uri": "https://localhost:8080/"
        },
        "outputId": "70c17cf6-6e70-44aa-934a-ab3756f65843"
      },
      "source": [
        "# evaluate loaded model on test data\n",
        "loaded_model.compile(loss = loss_fn, optimizer = opt, metrics=['accuracy'])\n",
        "score = loaded_model.evaluate(x = test_ds)\n",
        "print(\"%s: %.2f%%\" % (loaded_model.metrics_names[1], score[1]*100))\n",
        "\n",
        "print(\"[INFO] Loss: \",score[0])"
      ],
      "execution_count": null,
      "outputs": [
        {
          "output_type": "stream",
          "name": "stdout",
          "text": [
            "26/26 [==============================] - 162s 6s/step - loss: 0.4984 - accuracy: 0.8736\n",
            "accuracy: 87.36%\n",
            "[INFO] Loss:  0.49837610125541687\n"
          ]
        }
      ]
    },
    {
      "cell_type": "code",
      "source": [
        "import time\n",
        "inicio = time.process_time()\n",
        "\n",
        "predictions = loaded_model.predict(test_ds)\n",
        "y_pred = predictions.argmax(axis=1)\n",
        "\n",
        "fim = time.process_time()\n",
        "tempo = fim - inicio"
      ],
      "metadata": {
        "id": "ZjHchIeAyN4x"
      },
      "execution_count": null,
      "outputs": []
    },
    {
      "cell_type": "code",
      "source": [
        "tempo"
      ],
      "metadata": {
        "colab": {
          "base_uri": "https://localhost:8080/"
        },
        "id": "eDbDW1f056T5",
        "outputId": "ba3c678c-6eb8-4e9c-9dbe-64bad1be2f3f"
      },
      "execution_count": null,
      "outputs": [
        {
          "output_type": "execute_result",
          "data": {
            "text/plain": [
              "8.535741393999999"
            ]
          },
          "metadata": {},
          "execution_count": 16
        }
      ]
    },
    {
      "cell_type": "code",
      "source": [
        "print(classification_report(test_ds.classes,\n",
        "                            y_pred,\n",
        "                            target_names=target_names))"
      ],
      "metadata": {
        "id": "Guwl2yvH5mpk",
        "colab": {
          "base_uri": "https://localhost:8080/"
        },
        "outputId": "d3b88e52-0260-4bda-aa62-7a3a222426c1"
      },
      "execution_count": null,
      "outputs": [
        {
          "output_type": "stream",
          "name": "stdout",
          "text": [
            "              precision    recall  f1-score   support\n",
            "\n",
            "   aae-femea       0.80      0.99      0.88       150\n",
            "   aae-macho       0.72      0.79      0.75       150\n",
            "   aal-femea       0.87      0.97      0.92       104\n",
            "   aal-macho       1.00      0.44      0.61       111\n",
            "    cq-femea       0.99      0.98      0.99       150\n",
            "    cq-macho       0.99      0.99      0.99       150\n",
            "\n",
            "    accuracy                           0.87       815\n",
            "   macro avg       0.89      0.86      0.86       815\n",
            "weighted avg       0.89      0.87      0.86       815\n",
            "\n"
          ]
        }
      ]
    },
    {
      "cell_type": "code",
      "source": [
        "cm = confusion_matrix(test_ds.classes,\n",
        "                            y_pred,)\n",
        "\n",
        "plot_confusion_matrix(cm, target_names, False, title='Confusion Matrix')"
      ],
      "metadata": {
        "colab": {
          "base_uri": "https://localhost:8080/",
          "height": 746
        },
        "id": "cC8yEGhcj21O",
        "outputId": "17edb06d-48ed-4ab9-e2c1-956f4774a559"
      },
      "execution_count": null,
      "outputs": [
        {
          "output_type": "stream",
          "name": "stdout",
          "text": [
            "Confusion matrix, without normalization\n"
          ]
        },
        {
          "output_type": "display_data",
          "data": {
            "image/png": "[encoded data removed]",
            "text/plain": [
              "<Figure size 720x720 with 2 Axes>"
            ]
          },
          "metadata": {
            "needs_background": "light"
          }
        }
      ]
    },
    {
      "cell_type": "code",
      "source": [
        "predictions"
      ],
      "metadata": {
        "colab": {
          "base_uri": "https://localhost:8080/"
        },
        "id": "3dyHL7DHtnss",
        "outputId": "774c4c79-dd75-43c9-a888-a24f032739b3"
      },
      "execution_count": null,
      "outputs": [
        {
          "output_type": "execute_result",
          "data": {
            "text/plain": [
              "array([[9.9997008e-01, 3.7906607e-09, 2.8933915e-05, 3.8214754e-10,\n",
              "        9.4911371e-07, 2.0286837e-14],\n",
              "       [9.9999988e-01, 8.2040913e-08, 9.0028462e-10, 6.0375392e-11,\n",
              "        5.6454463e-09, 1.2196820e-13],\n",
              "       [9.9996698e-01, 1.6763463e-05, 1.6252772e-05, 9.7699075e-09,\n",
              "        1.5275763e-08, 2.1320306e-13],\n",
              "       ...,\n",
              "       [2.0803091e-06, 2.2344726e-05, 1.2835046e-07, 1.3677207e-08,\n",
              "        3.3342829e-05, 9.9994206e-01],\n",
              "       [1.6693394e-06, 6.4322847e-04, 1.7953269e-07, 7.7383876e-05,\n",
              "        1.1571395e-06, 9.9927634e-01],\n",
              "       [7.0607843e-05, 5.5849065e-05, 3.4079812e-06, 2.6037597e-07,\n",
              "        4.8259896e-04, 9.9938726e-01]], dtype=float32)"
            ]
          },
          "metadata": {},
          "execution_count": 19
        }
      ]
    },
    {
      "cell_type": "markdown",
      "source": [
        "## Curva ROC"
      ],
      "metadata": {
        "id": "kax-5_7YpXJz"
      }
    },
    {
      "cell_type": "code",
      "source": [
        "#ROC CURVE\n",
        "from sklearn.metrics import roc_curve\n",
        "\n",
        "\n",
        "\n",
        "# roc curve for classes\n",
        "fpr = {}\n",
        "tpr = {}\n",
        "thresh ={}\n",
        "\n",
        "n_class = 6\n",
        "\n",
        "for i in range(n_class):    \n",
        "    fpr[i], tpr[i], thresh[i] = roc_curve(test_ds.classes, predictions[:,i], pos_label=i)\n",
        "    \n",
        "# plotting    \n",
        "plt.plot(fpr[0], tpr[0], linestyle='--',color='orange', label='Class aae-femea vs Rest')\n",
        "plt.plot(fpr[1], tpr[1], linestyle='--',color='green', label='Class aae-macho vs Rest')\n",
        "plt.plot(fpr[2], tpr[2], linestyle='--',color='blue', label='Class aal-femea vs Rest')\n",
        "plt.plot(fpr[3], tpr[3], linestyle='--',color='black', label='Class aal-macho vs Rest')\n",
        "plt.plot(fpr[4], tpr[4], linestyle='--',color='red', label='Class cq-femea vs Rest')\n",
        "plt.plot(fpr[5], tpr[5], linestyle='--',color='brown', label='Class cq-macho vs Rest')\n",
        "\n",
        "\n",
        "plt.title('Multiclass ROC curve')\n",
        "plt.xlabel('False Positive Rate')\n",
        "plt.ylabel('True Positive rate')\n",
        "plt.legend(loc='best')\n",
        "plt.savefig('Multiclass ROC',dpi=300);"
      ],
      "metadata": {
        "colab": {
          "base_uri": "https://localhost:8080/",
          "height": 295
        },
        "id": "vJEDtZFVkTiD",
        "outputId": "82c61074-e209-4035-e37b-0595e615e4a4"
      },
      "execution_count": null,
      "outputs": [
        {
          "output_type": "display_data",
          "data": {
            "image/png": "[encoded data removed]",
            "text/plain": [
              "<Figure size 432x288 with 1 Axes>"
            ]
          },
          "metadata": {
            "needs_background": "light"
          }
        }
      ]
    }
  ]
}