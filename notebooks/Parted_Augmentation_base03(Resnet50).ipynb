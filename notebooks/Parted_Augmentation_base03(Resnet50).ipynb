{
  "nbformat": 4,
  "nbformat_minor": 0,
  "metadata": {
    "accelerator": "GPU",
    "colab": {
      "name": "Parted Augmentation base03(Resnet50).ipynb",
      "provenance": [],
      "collapsed_sections": []
    },
    "kernelspec": {
      "display_name": "Python 3",
      "name": "python3"
    }
  },
  "cells": [
    {
      "cell_type": "code",
      "metadata": {
        "colab": {
          "base_uri": "https://localhost:8080/"
        },
        "id": "TflFz__Mj5AD",
        "outputId": "8a0db81a-caa4-4acd-897d-97b6a3332aa0"
      },
      "source": [
        "from google.colab import drive\n",
        "drive.mount('/content/drive')"
      ],
      "execution_count": null,
      "outputs": [
        {
          "output_type": "stream",
          "name": "stdout",
          "text": [
            "Mounted at /content/drive\n"
          ]
        }
      ]
    },
    {
      "cell_type": "code",
      "metadata": {
        "id": "HdHFnfZHf8Hc"
      },
      "source": [
        "#!pip install tensorflow-addons"
      ],
      "execution_count": null,
      "outputs": []
    },
    {
      "cell_type": "code",
      "metadata": {
        "id": "uwQRKadne03q"
      },
      "source": [
        "%tensorflow_version 2.x\n",
        "import tensorflow as tf\n",
        "#import tensorflow_addons as tfa\n",
        "from imutils import paths\n",
        "import os\n",
        "import cv2\n",
        "import numpy as np\n",
        "from tensorflow.keras.preprocessing.image import ImageDataGenerator\n",
        "from sklearn.preprocessing import LabelEncoder\n",
        "from keras.utils import np_utils\n",
        "from sklearn.metrics import classification_report, confusion_matrix\n",
        "import itertools\n",
        "\n",
        "import matplotlib.pyplot as plt\n",
        "#matplotlib.use(\"Agg\")\n",
        "from sklearn.metrics import classification_report, confusion_matrix\n",
        "from sklearn.model_selection import train_test_split\n",
        "from keras.callbacks import EarlyStopping\n",
        "from sklearn.utils import class_weight\n",
        "\n",
        "\n"
      ],
      "execution_count": null,
      "outputs": []
    },
    {
      "cell_type": "code",
      "source": [
        ""
      ],
      "metadata": {
        "id": "WCi5zUsLpkMl"
      },
      "execution_count": null,
      "outputs": []
    },
    {
      "cell_type": "markdown",
      "metadata": {
        "id": "2CNRfViw9143"
      },
      "source": [
        "## Qual GPU está sendo usada"
      ]
    },
    {
      "cell_type": "code",
      "metadata": {
        "id": "23TOba33L4qf",
        "colab": {
          "base_uri": "https://localhost:8080/"
        },
        "outputId": "ea217699-249f-4f82-c5a2-5a0c74f3eeca"
      },
      "source": [
        "gpu_info = !nvidia-smi\n",
        "gpu_info = '\\n'.join(gpu_info)\n",
        "if gpu_info.find('failed') >= 0:\n",
        "  print('Select the Runtime > \"Change runtime type\" menu to enable a GPU accelerator, ')\n",
        "  print('and then re-execute this cell.')\n",
        "else:\n",
        "  print(gpu_info)"
      ],
      "execution_count": null,
      "outputs": [
        {
          "output_type": "stream",
          "name": "stdout",
          "text": [
            "Tue Dec 28 09:44:47 2021       \n",
            "+-----------------------------------------------------------------------------+\n",
            "| NVIDIA-SMI 495.44       Driver Version: 460.32.03    CUDA Version: 11.2     |\n",
            "|-------------------------------+----------------------+----------------------+\n",
            "| GPU  Name        Persistence-M| Bus-Id        Disp.A | Volatile Uncorr. ECC |\n",
            "| Fan  Temp  Perf  Pwr:Usage/Cap|         Memory-Usage | GPU-Util  Compute M. |\n",
            "|                               |                      |               MIG M. |\n",
            "|===============================+======================+======================|\n",
            "|   0  Tesla P100-PCIE...  Off  | 00000000:00:04.0 Off |                    0 |\n",
            "| N/A   34C    P0    27W / 250W |      0MiB / 16280MiB |      0%      Default |\n",
            "|                               |                      |                  N/A |\n",
            "+-------------------------------+----------------------+----------------------+\n",
            "                                                                               \n",
            "+-----------------------------------------------------------------------------+\n",
            "| Processes:                                                                  |\n",
            "|  GPU   GI   CI        PID   Type   Process name                  GPU Memory |\n",
            "|        ID   ID                                                   Usage      |\n",
            "|=============================================================================|\n",
            "|  No running processes found                                                 |\n",
            "+-----------------------------------------------------------------------------+\n"
          ]
        }
      ]
    },
    {
      "cell_type": "code",
      "metadata": {
        "id": "CgZX9vgQojo_"
      },
      "source": [
        "BS = 32\n",
        "img_height = 128\n",
        "img_width = 128\n",
        "\n",
        "INIT_LR = 0.001\n",
        "EPOCHS = 300\n",
        "\n",
        "SEED = 42"
      ],
      "execution_count": null,
      "outputs": []
    },
    {
      "cell_type": "code",
      "metadata": {
        "id": "KjE7UUnAe04E"
      },
      "source": [
        "train_dir = \"/content/drive/My Drive/mosquitoes-datasets/parted/base03/train\"\n",
        "validation_dir = \"/content/drive/My Drive/mosquitoes-datasets/parted/base03/validation\"\n",
        "test_dir = \"/content/drive/My Drive/mosquitoes-datasets/parted/base03/test\""
      ],
      "execution_count": null,
      "outputs": []
    },
    {
      "cell_type": "code",
      "metadata": {
        "id": "XeRPNQX1DoU6"
      },
      "source": [
        "\ttrain_datagen = ImageDataGenerator(\n",
        "    rescale=1./255,\n",
        "\t\trotation_range=20,\n",
        "\t\tzoom_range=0.15,\n",
        "\t\twidth_shift_range=0.2,\n",
        "\t\theight_shift_range=0.2,\n",
        "\t\tshear_range=0.15,\n",
        "\t\thorizontal_flip=True,\n",
        "\t\tfill_mode=\"nearest\",)"
      ],
      "execution_count": null,
      "outputs": []
    },
    {
      "cell_type": "code",
      "metadata": {
        "id": "eWoEhuzOKGTW"
      },
      "source": [
        "    val_datagen = ImageDataGenerator(\n",
        "    rescale=1./255,)"
      ],
      "execution_count": null,
      "outputs": []
    },
    {
      "cell_type": "code",
      "metadata": {
        "id": "jibYXQvnD-NW"
      },
      "source": [
        "    test_datagen = ImageDataGenerator(\n",
        "    rescale=1./255,)"
      ],
      "execution_count": null,
      "outputs": []
    },
    {
      "cell_type": "code",
      "metadata": {
        "colab": {
          "base_uri": "https://localhost:8080/"
        },
        "id": "dMj4FtSfS5Mt",
        "outputId": "df93497a-dd76-40bf-912e-051704957d42"
      },
      "source": [
        "train_ds = train_datagen.flow_from_directory(\n",
        "  directory = train_dir,\n",
        "  target_size=(img_height, img_width),\n",
        "  batch_size=BS,\n",
        "  seed=SEED,\n",
        "  class_mode='categorical',)"
      ],
      "execution_count": null,
      "outputs": [
        {
          "output_type": "stream",
          "name": "stdout",
          "text": [
            "Found 3802 images belonging to 6 classes.\n"
          ]
        }
      ]
    },
    {
      "cell_type": "code",
      "metadata": {
        "colab": {
          "base_uri": "https://localhost:8080/"
        },
        "id": "QQDvRPIeS9k2",
        "outputId": "10711cdd-7a64-4709-ba96-d8023827210d"
      },
      "source": [
        "val_ds = val_datagen.flow_from_directory(\n",
        "  directory = validation_dir,\n",
        "  target_size=(img_height, img_width),\n",
        "  batch_size=BS,\n",
        "  seed=SEED,\n",
        "  class_mode='categorical',)\n"
      ],
      "execution_count": null,
      "outputs": [
        {
          "output_type": "stream",
          "name": "stdout",
          "text": [
            "Found 815 images belonging to 6 classes.\n"
          ]
        }
      ]
    },
    {
      "cell_type": "code",
      "metadata": {
        "colab": {
          "base_uri": "https://localhost:8080/"
        },
        "outputId": "eb6f2498-e024-4d08-be93-d6698289992c",
        "id": "HV6sTiecEQmp"
      },
      "source": [
        "test_ds = test_datagen.flow_from_directory(\n",
        "  directory = test_dir,\n",
        "  target_size=(img_height, img_width),\n",
        "  batch_size=BS,\n",
        "  shuffle=False,\n",
        "  seed=SEED,\n",
        "  class_mode='categorical',)\n"
      ],
      "execution_count": null,
      "outputs": [
        {
          "output_type": "stream",
          "name": "stdout",
          "text": [
            "Found 815 images belonging to 6 classes.\n"
          ]
        }
      ]
    },
    {
      "cell_type": "code",
      "metadata": {
        "colab": {
          "base_uri": "https://localhost:8080/"
        },
        "id": "9BOEyfufTYzk",
        "outputId": "7db1be6a-89fe-4193-9ec4-043aea9709d2"
      },
      "source": [
        "class_names = train_ds.class_indices\n",
        "print(class_names)"
      ],
      "execution_count": null,
      "outputs": [
        {
          "output_type": "stream",
          "name": "stdout",
          "text": [
            "{'aae-femea': 0, 'aae-macho': 1, 'aal-femea': 2, 'aal-macho': 3, 'cq-femea': 4, 'cq-macho': 5}\n"
          ]
        }
      ]
    },
    {
      "cell_type": "code",
      "metadata": {
        "id": "RSkzdv8MD0tT"
      },
      "source": [
        "loss_fn = tf.keras.losses.CategoricalCrossentropy()\n",
        "opt = tf.keras.optimizers.SGD(learning_rate=INIT_LR, momentum=0.9, decay=INIT_LR / EPOCHS)\n"
      ],
      "execution_count": null,
      "outputs": []
    },
    {
      "cell_type": "code",
      "source": [
        "class_weights = class_weight.compute_class_weight(\n",
        "            class_weight = 'balanced',\n",
        "            classes = np.unique(train_ds.classes), \n",
        "            y = train_ds.classes)\n",
        "\n",
        "train_class_weights = dict(enumerate(class_weights))"
      ],
      "metadata": {
        "id": "F4HETeFS3DRh"
      },
      "execution_count": null,
      "outputs": []
    },
    {
      "cell_type": "code",
      "source": [
        "train_class_weights"
      ],
      "metadata": {
        "id": "WAH4BQzXCFNF",
        "colab": {
          "base_uri": "https://localhost:8080/"
        },
        "outputId": "5b5ad373-b362-411d-803d-e3183b8b803e"
      },
      "execution_count": null,
      "outputs": [
        {
          "output_type": "execute_result",
          "data": {
            "text/plain": [
              "{0: 0.9052380952380953,\n",
              " 1: 0.9052380952380953,\n",
              " 2: 1.309228650137741,\n",
              " 3: 1.2232947232947233,\n",
              " 4: 0.9052380952380953,\n",
              " 5: 0.9052380952380953}"
            ]
          },
          "metadata": {},
          "execution_count": 16
        }
      ]
    },
    {
      "cell_type": "code",
      "metadata": {
        "id": "I9AjYaVNBas_"
      },
      "source": [
        "model = tf.keras.applications.ResNet50(include_top=True,\n",
        "                                             weights=None,\n",
        "                                             input_shape=(img_height,img_width,3),\n",
        "                                             classes=6)"
      ],
      "execution_count": null,
      "outputs": []
    },
    {
      "cell_type": "code",
      "metadata": {
        "id": "0pnsnQMZe05C"
      },
      "source": [
        "model.compile(loss=loss_fn,optimizer = opt, metrics = ['accuracy'])"
      ],
      "execution_count": null,
      "outputs": []
    },
    {
      "cell_type": "code",
      "metadata": {
        "id": "EoaCPDnvn3BB"
      },
      "source": [
        "# simple early stopping \n",
        "es = EarlyStopping(monitor='val_loss', mode='min', verbose=1, patience=20)"
      ],
      "execution_count": null,
      "outputs": []
    },
    {
      "cell_type": "code",
      "metadata": {
        "colab": {
          "base_uri": "https://localhost:8080/"
        },
        "id": "RfNtd1_Je05H",
        "outputId": "e7a76a99-8aa4-404a-abea-c60d58c7843b"
      },
      "source": [
        "import time\n",
        "inicio = time.process_time()\n",
        "\n",
        "H = model.fit(train_ds,batch_size=BS,\n",
        "              validation_data=val_ds,\n",
        "              class_weight=train_class_weights,\n",
        "              epochs=EPOCHS,\n",
        "              callbacks=[es])\n",
        "\n",
        "fim = time.process_time()\n",
        "tempo = fim - inicio"
      ],
      "execution_count": null,
      "outputs": [
        {
          "output_type": "stream",
          "name": "stdout",
          "text": [
            "Epoch 1/300\n",
            "119/119 [==============================] - 1948s 16s/step - loss: 1.5126 - accuracy: 0.3966 - val_loss: 2.3447 - val_accuracy: 0.1840\n",
            "Epoch 2/300\n",
            "119/119 [==============================] - 59s 494ms/step - loss: 1.2414 - accuracy: 0.5142 - val_loss: 6.0902 - val_accuracy: 0.1840\n",
            "Epoch 3/300\n",
            "119/119 [==============================] - 58s 491ms/step - loss: 0.9603 - accuracy: 0.6120 - val_loss: 4.2736 - val_accuracy: 0.3301\n",
            "Epoch 4/300\n",
            "119/119 [==============================] - 58s 491ms/step - loss: 0.8458 - accuracy: 0.6749 - val_loss: 1.4796 - val_accuracy: 0.4871\n",
            "Epoch 5/300\n",
            "119/119 [==============================] - 59s 493ms/step - loss: 0.8416 - accuracy: 0.6944 - val_loss: 0.7186 - val_accuracy: 0.7215\n",
            "Epoch 6/300\n",
            "119/119 [==============================] - 59s 495ms/step - loss: 0.7315 - accuracy: 0.7283 - val_loss: 0.9420 - val_accuracy: 0.6613\n",
            "Epoch 7/300\n",
            "119/119 [==============================] - 58s 491ms/step - loss: 0.7494 - accuracy: 0.7244 - val_loss: 0.7892 - val_accuracy: 0.7571\n",
            "Epoch 8/300\n",
            "119/119 [==============================] - 59s 493ms/step - loss: 0.6254 - accuracy: 0.7764 - val_loss: 1.1126 - val_accuracy: 0.6871\n",
            "Epoch 9/300\n",
            "119/119 [==============================] - 59s 493ms/step - loss: 0.6027 - accuracy: 0.7770 - val_loss: 2.9028 - val_accuracy: 0.4994\n",
            "Epoch 10/300\n",
            "119/119 [==============================] - 58s 489ms/step - loss: 0.5659 - accuracy: 0.7875 - val_loss: 0.8488 - val_accuracy: 0.7202\n",
            "Epoch 11/300\n",
            "119/119 [==============================] - 59s 493ms/step - loss: 0.5608 - accuracy: 0.7969 - val_loss: 6.1703 - val_accuracy: 0.4245\n",
            "Epoch 12/300\n",
            "119/119 [==============================] - 59s 492ms/step - loss: 0.4914 - accuracy: 0.8180 - val_loss: 0.6099 - val_accuracy: 0.7939\n",
            "Epoch 13/300\n",
            "119/119 [==============================] - 59s 493ms/step - loss: 0.5364 - accuracy: 0.8096 - val_loss: 0.7758 - val_accuracy: 0.7497\n",
            "Epoch 14/300\n",
            "119/119 [==============================] - 58s 490ms/step - loss: 0.4863 - accuracy: 0.8259 - val_loss: 1.5726 - val_accuracy: 0.6601\n",
            "Epoch 15/300\n",
            "119/119 [==============================] - 59s 493ms/step - loss: 0.4717 - accuracy: 0.8190 - val_loss: 0.5552 - val_accuracy: 0.7963\n",
            "Epoch 16/300\n",
            "119/119 [==============================] - 58s 491ms/step - loss: 0.4825 - accuracy: 0.8267 - val_loss: 0.7896 - val_accuracy: 0.7914\n",
            "Epoch 17/300\n",
            "119/119 [==============================] - 58s 491ms/step - loss: 0.4300 - accuracy: 0.8435 - val_loss: 0.4060 - val_accuracy: 0.8479\n",
            "Epoch 18/300\n",
            "119/119 [==============================] - 59s 493ms/step - loss: 0.4251 - accuracy: 0.8448 - val_loss: 1.0355 - val_accuracy: 0.7485\n",
            "Epoch 19/300\n",
            "119/119 [==============================] - 59s 492ms/step - loss: 0.4477 - accuracy: 0.8367 - val_loss: 0.4030 - val_accuracy: 0.8834\n",
            "Epoch 20/300\n",
            "119/119 [==============================] - 59s 494ms/step - loss: 0.4073 - accuracy: 0.8482 - val_loss: 0.6898 - val_accuracy: 0.8074\n",
            "Epoch 21/300\n",
            "119/119 [==============================] - 58s 491ms/step - loss: 0.4001 - accuracy: 0.8651 - val_loss: 4.0145 - val_accuracy: 0.5939\n",
            "Epoch 22/300\n",
            "119/119 [==============================] - 59s 493ms/step - loss: 0.3836 - accuracy: 0.8640 - val_loss: 0.5852 - val_accuracy: 0.8074\n",
            "Epoch 23/300\n",
            "119/119 [==============================] - 59s 496ms/step - loss: 0.3825 - accuracy: 0.8651 - val_loss: 1.9892 - val_accuracy: 0.6368\n",
            "Epoch 24/300\n",
            "119/119 [==============================] - 58s 490ms/step - loss: 0.3878 - accuracy: 0.8559 - val_loss: 0.4589 - val_accuracy: 0.8503\n",
            "Epoch 25/300\n",
            "119/119 [==============================] - 59s 495ms/step - loss: 0.3334 - accuracy: 0.8809 - val_loss: 0.4458 - val_accuracy: 0.8380\n",
            "Epoch 26/300\n",
            "119/119 [==============================] - 59s 492ms/step - loss: 0.3335 - accuracy: 0.8766 - val_loss: 0.3831 - val_accuracy: 0.8564\n",
            "Epoch 27/300\n",
            "119/119 [==============================] - 59s 494ms/step - loss: 0.3440 - accuracy: 0.8735 - val_loss: 0.5779 - val_accuracy: 0.8160\n",
            "Epoch 28/300\n",
            "119/119 [==============================] - 59s 493ms/step - loss: 0.3150 - accuracy: 0.8787 - val_loss: 1.3780 - val_accuracy: 0.6736\n",
            "Epoch 29/300\n",
            "119/119 [==============================] - 59s 493ms/step - loss: 0.3317 - accuracy: 0.8793 - val_loss: 0.5205 - val_accuracy: 0.8564\n",
            "Epoch 30/300\n",
            "119/119 [==============================] - 59s 492ms/step - loss: 0.3186 - accuracy: 0.8840 - val_loss: 1.9106 - val_accuracy: 0.6282\n",
            "Epoch 31/300\n",
            "119/119 [==============================] - 59s 492ms/step - loss: 0.3114 - accuracy: 0.8848 - val_loss: 0.6975 - val_accuracy: 0.8012\n",
            "Epoch 32/300\n",
            "119/119 [==============================] - 58s 488ms/step - loss: 0.3052 - accuracy: 0.8858 - val_loss: 0.3882 - val_accuracy: 0.8748\n",
            "Epoch 33/300\n",
            "119/119 [==============================] - 58s 485ms/step - loss: 0.2763 - accuracy: 0.8985 - val_loss: 0.5515 - val_accuracy: 0.8245\n",
            "Epoch 34/300\n",
            "119/119 [==============================] - 58s 485ms/step - loss: 0.3332 - accuracy: 0.8748 - val_loss: 0.5217 - val_accuracy: 0.8356\n",
            "Epoch 35/300\n",
            "119/119 [==============================] - 58s 487ms/step - loss: 0.3069 - accuracy: 0.8864 - val_loss: 0.4612 - val_accuracy: 0.8650\n",
            "Epoch 36/300\n",
            "119/119 [==============================] - 58s 491ms/step - loss: 0.3062 - accuracy: 0.8877 - val_loss: 0.3222 - val_accuracy: 0.8969\n",
            "Epoch 37/300\n",
            "119/119 [==============================] - 58s 488ms/step - loss: 0.2682 - accuracy: 0.9043 - val_loss: 0.5253 - val_accuracy: 0.8577\n",
            "Epoch 38/300\n",
            "119/119 [==============================] - 58s 489ms/step - loss: 0.2543 - accuracy: 0.9053 - val_loss: 0.2059 - val_accuracy: 0.9288\n",
            "Epoch 39/300\n",
            "119/119 [==============================] - 58s 485ms/step - loss: 0.2350 - accuracy: 0.9116 - val_loss: 1.3638 - val_accuracy: 0.6896\n",
            "Epoch 40/300\n",
            "119/119 [==============================] - 58s 486ms/step - loss: 0.2452 - accuracy: 0.9029 - val_loss: 0.2752 - val_accuracy: 0.9080\n",
            "Epoch 41/300\n",
            "119/119 [==============================] - 58s 488ms/step - loss: 0.2237 - accuracy: 0.9200 - val_loss: 0.4335 - val_accuracy: 0.8736\n",
            "Epoch 42/300\n",
            "119/119 [==============================] - 58s 487ms/step - loss: 0.2441 - accuracy: 0.9111 - val_loss: 0.4870 - val_accuracy: 0.8442\n",
            "Epoch 43/300\n",
            "119/119 [==============================] - 58s 488ms/step - loss: 0.2551 - accuracy: 0.9032 - val_loss: 0.9475 - val_accuracy: 0.7926\n",
            "Epoch 44/300\n",
            "119/119 [==============================] - 58s 487ms/step - loss: 0.2590 - accuracy: 0.9087 - val_loss: 0.3218 - val_accuracy: 0.8957\n",
            "Epoch 45/300\n",
            "119/119 [==============================] - 59s 492ms/step - loss: 0.2348 - accuracy: 0.9177 - val_loss: 0.5946 - val_accuracy: 0.8405\n",
            "Epoch 46/300\n",
            "119/119 [==============================] - 58s 490ms/step - loss: 0.2412 - accuracy: 0.9132 - val_loss: 1.5582 - val_accuracy: 0.7202\n",
            "Epoch 47/300\n",
            "119/119 [==============================] - 58s 488ms/step - loss: 0.2413 - accuracy: 0.9072 - val_loss: 0.4199 - val_accuracy: 0.8798\n",
            "Epoch 48/300\n",
            "119/119 [==============================] - 58s 486ms/step - loss: 0.2112 - accuracy: 0.9227 - val_loss: 0.3414 - val_accuracy: 0.8945\n",
            "Epoch 49/300\n",
            "119/119 [==============================] - 58s 487ms/step - loss: 0.2157 - accuracy: 0.9240 - val_loss: 1.7049 - val_accuracy: 0.6663\n",
            "Epoch 50/300\n",
            "119/119 [==============================] - 58s 485ms/step - loss: 0.1918 - accuracy: 0.9314 - val_loss: 0.7194 - val_accuracy: 0.8184\n",
            "Epoch 51/300\n",
            "119/119 [==============================] - 58s 486ms/step - loss: 0.2119 - accuracy: 0.9253 - val_loss: 0.3053 - val_accuracy: 0.9215\n",
            "Epoch 52/300\n",
            "119/119 [==============================] - 58s 486ms/step - loss: 0.1921 - accuracy: 0.9314 - val_loss: 0.4790 - val_accuracy: 0.8564\n",
            "Epoch 53/300\n",
            "119/119 [==============================] - 58s 489ms/step - loss: 0.2009 - accuracy: 0.9229 - val_loss: 0.9528 - val_accuracy: 0.7620\n",
            "Epoch 54/300\n",
            "119/119 [==============================] - 59s 495ms/step - loss: 0.2104 - accuracy: 0.9227 - val_loss: 0.8229 - val_accuracy: 0.8049\n",
            "Epoch 55/300\n",
            "119/119 [==============================] - 58s 490ms/step - loss: 0.1683 - accuracy: 0.9403 - val_loss: 2.1038 - val_accuracy: 0.7178\n",
            "Epoch 56/300\n",
            "119/119 [==============================] - 58s 488ms/step - loss: 0.1748 - accuracy: 0.9398 - val_loss: 0.4569 - val_accuracy: 0.8564\n",
            "Epoch 57/300\n",
            "119/119 [==============================] - 58s 488ms/step - loss: 0.1730 - accuracy: 0.9421 - val_loss: 0.7716 - val_accuracy: 0.8282\n",
            "Epoch 58/300\n",
            "119/119 [==============================] - 59s 492ms/step - loss: 0.1565 - accuracy: 0.9437 - val_loss: 0.3899 - val_accuracy: 0.8859\n",
            "Epoch 00058: early stopping\n"
          ]
        }
      ]
    },
    {
      "cell_type": "code",
      "source": [
        "tempo"
      ],
      "metadata": {
        "id": "0eBJDp3kCh4S",
        "colab": {
          "base_uri": "https://localhost:8080/"
        },
        "outputId": "34903cd2-a512-4538-b883-270f56d4a425"
      },
      "execution_count": null,
      "outputs": [
        {
          "output_type": "execute_result",
          "data": {
            "text/plain": [
              "3532.821667713"
            ]
          },
          "metadata": {},
          "execution_count": 21
        }
      ]
    },
    {
      "cell_type": "code",
      "metadata": {
        "id": "g4F97Eq1e05b",
        "colab": {
          "base_uri": "https://localhost:8080/",
          "height": 295
        },
        "outputId": "8f1319c1-0faa-494a-a126-b4677c03b61c"
      },
      "source": [
        "if es.stopped_epoch!=0:\n",
        "  EPOCHS = es.stopped_epoch+1\n",
        "\n",
        "  \n",
        "# plot the training loss and accuracy\n",
        "N = np.arange(0, EPOCHS)\n",
        "#plt.style.use(\"ggplot\")\n",
        "plt.figure()\n",
        "plt.plot(N, H.history[\"loss\"], label=\"train_loss\")\n",
        "plt.plot(N, H.history[\"val_loss\"], label=\"val_loss\")\n",
        "plt.plot(N, H.history[\"accuracy\"], label=\"train_acc\")\n",
        "plt.plot(N, H.history[\"val_accuracy\"], label=\"val_acc\")\n",
        "plt.title(\"Training Loss and Accuracy on Dataset\")\n",
        "plt.xlabel(\"Epoch #\")\n",
        "plt.ylabel(\"Loss/Accuracy\")\n",
        "plt.legend(loc=\"lower left\")\n",
        "#plt.savefig(\"plot.png\")\n",
        "plt.show()"
      ],
      "execution_count": null,
      "outputs": [
        {
          "output_type": "display_data",
          "data": {
            "image/png": "[encoded data removed]",
            "text/plain": [
              "<Figure size 432x288 with 1 Axes>"
            ]
          },
          "metadata": {
            "needs_background": "light"
          }
        }
      ]
    },
    {
      "cell_type": "markdown",
      "metadata": {
        "id": "MxQXt7ZEJA6V"
      },
      "source": [
        "##Teste"
      ]
    },
    {
      "cell_type": "code",
      "source": [
        ""
      ],
      "metadata": {
        "id": "63V6KJVE5kGv"
      },
      "execution_count": null,
      "outputs": []
    },
    {
      "cell_type": "markdown",
      "source": [
        "## Get the accuracy score"
      ],
      "metadata": {
        "id": "kOxNG3EvJTck"
      }
    },
    {
      "cell_type": "code",
      "metadata": {
        "id": "v65JmWyDI_2c",
        "colab": {
          "base_uri": "https://localhost:8080/"
        },
        "outputId": "6ebc3db9-791d-43be-d3d1-1d7c54309ffc"
      },
      "source": [
        "test_score = model.evaluate(test_ds)\n",
        "\n",
        "\n",
        "\n",
        "print(\"[INFO] accuracy: {:.2f}%\".format(test_score[1] * 100)) \n",
        "\n",
        "print(\"[INFO] Loss: \",test_score[0])"
      ],
      "execution_count": null,
      "outputs": [
        {
          "output_type": "stream",
          "name": "stdout",
          "text": [
            "26/26 [==============================] - 10s 389ms/step - loss: 0.4984 - accuracy: 0.8736\n",
            "[INFO] accuracy: 87.36%\n",
            "[INFO] Loss:  0.49837610125541687\n"
          ]
        }
      ]
    },
    {
      "cell_type": "markdown",
      "source": [
        "## Plot the confusion matrix. Set Normalize = True/False"
      ],
      "metadata": {
        "id": "RGgaG6rbJO9K"
      }
    },
    {
      "cell_type": "code",
      "source": [
        "def plot_confusion_matrix(cm, classes, normalize=True, title='Confusion matrix', cmap=plt.cm.Blues):\n",
        "\n",
        "    \"\"\"\n",
        "\n",
        "    This function prints and plots the confusion matrix.\n",
        "\n",
        "    Normalization can be applied by setting `normalize=True`.\n",
        "\n",
        "    \"\"\"\n",
        "\n",
        "    plt.figure(figsize=(10,10))\n",
        "\n",
        "\n",
        "\n",
        "    plt.imshow(cm, interpolation='nearest', cmap=cmap)\n",
        "\n",
        "    plt.title(title)\n",
        "\n",
        "    plt.colorbar()\n",
        "\n",
        "\n",
        "\n",
        "    tick_marks = np.arange(len(classes))\n",
        "\n",
        "    plt.xticks(tick_marks, classes, rotation=45)\n",
        "\n",
        "    plt.yticks(tick_marks, classes)\n",
        "\n",
        "\n",
        "\n",
        "    if normalize:\n",
        "\n",
        "        cm = cm.astype('float') / cm.sum(axis=1)[:, np.newaxis]\n",
        "\n",
        "        cm = np.around(cm, decimals=2)\n",
        "\n",
        "        cm[np.isnan(cm)] = 0.0\n",
        "\n",
        "        print(\"Normalized confusion matrix\")\n",
        "\n",
        "    else:\n",
        "\n",
        "        print('Confusion matrix, without normalization')\n",
        "\n",
        "    thresh = cm.max() / 2.\n",
        "\n",
        "    for i, j in itertools.product(range(cm.shape[0]), range(cm.shape[1])):\n",
        "\n",
        "        plt.text(j, i, cm[i, j],\n",
        "\n",
        "                 horizontalalignment=\"center\",\n",
        "\n",
        "                 color=\"white\" if cm[i, j] > thresh else \"black\")\n",
        "\n",
        "    plt.tight_layout()\n",
        "\n",
        "    plt.ylabel('True label')\n",
        "\n",
        "    plt.xlabel('Predicted label')"
      ],
      "metadata": {
        "id": "xAK6s1aqJRo4"
      },
      "execution_count": null,
      "outputs": []
    },
    {
      "cell_type": "markdown",
      "source": [
        "## Print the Target names"
      ],
      "metadata": {
        "id": "vEhWo093JptY"
      }
    },
    {
      "cell_type": "code",
      "source": [
        "target_names = []\n",
        "\n",
        "for key in train_ds.class_indices:\n",
        "\n",
        "    target_names.append(key)\n",
        "\n",
        "\n",
        "\n",
        "print(target_names)"
      ],
      "metadata": {
        "id": "pE-j3KV9JrrJ",
        "colab": {
          "base_uri": "https://localhost:8080/"
        },
        "outputId": "59f48d74-c5ab-4697-8ec4-c16b8b6b7db1"
      },
      "execution_count": null,
      "outputs": [
        {
          "output_type": "stream",
          "name": "stdout",
          "text": [
            "['aae-femea', 'aae-macho', 'aal-femea', 'aal-macho', 'cq-femea', 'cq-macho']\n"
          ]
        }
      ]
    },
    {
      "cell_type": "markdown",
      "source": [
        "## Confution Matrix"
      ],
      "metadata": {
        "id": "exHqdu21J2Vg"
      }
    },
    {
      "cell_type": "code",
      "source": [
        "Y_pred = model.predict_generator(test_ds)\n",
        "\n",
        "y_pred = np.argmax(Y_pred, axis=1)\n",
        "\n",
        "print('Confusion Matrix')\n",
        "\n",
        "cm = confusion_matrix(test_ds.classes, y_pred)\n",
        "\n",
        "plot_confusion_matrix(cm, target_names, False, title='Confusion Matrix')"
      ],
      "metadata": {
        "id": "JPcGgtFfJ4Jw",
        "colab": {
          "base_uri": "https://localhost:8080/",
          "height": 818
        },
        "outputId": "d65570d7-04af-46b3-f516-6d13bfec05a0"
      },
      "execution_count": null,
      "outputs": [
        {
          "output_type": "stream",
          "name": "stderr",
          "text": [
            "/usr/local/lib/python3.7/dist-packages/ipykernel_launcher.py:1: UserWarning: `Model.predict_generator` is deprecated and will be removed in a future version. Please use `Model.predict`, which supports generators.\n",
            "  \"\"\"Entry point for launching an IPython kernel.\n"
          ]
        },
        {
          "output_type": "stream",
          "name": "stdout",
          "text": [
            "Confusion Matrix\n",
            "Confusion matrix, without normalization\n"
          ]
        },
        {
          "output_type": "display_data",
          "data": {
            "image/png": "[encoded data removed]",
            "text/plain": [
              "<Figure size 720x720 with 2 Axes>"
            ]
          },
          "metadata": {
            "needs_background": "light"
          }
        }
      ]
    },
    {
      "cell_type": "markdown",
      "source": [
        "## Print Classification Report"
      ],
      "metadata": {
        "id": "uN1GHmZdKDR7"
      }
    },
    {
      "cell_type": "code",
      "source": [
        "print('Classification Report')\n",
        "\n",
        "print(classification_report(test_ds.classes, y_pred, target_names=target_names))"
      ],
      "metadata": {
        "id": "kLemcBL4KE8M",
        "colab": {
          "base_uri": "https://localhost:8080/"
        },
        "outputId": "ed63b99b-3ea6-42bc-dc9b-47619d871736"
      },
      "execution_count": null,
      "outputs": [
        {
          "output_type": "stream",
          "name": "stdout",
          "text": [
            "Classification Report\n",
            "              precision    recall  f1-score   support\n",
            "\n",
            "   aae-femea       0.80      0.99      0.88       150\n",
            "   aae-macho       0.72      0.79      0.75       150\n",
            "   aal-femea       0.87      0.97      0.92       104\n",
            "   aal-macho       1.00      0.44      0.61       111\n",
            "    cq-femea       0.99      0.98      0.99       150\n",
            "    cq-macho       0.99      0.99      0.99       150\n",
            "\n",
            "    accuracy                           0.87       815\n",
            "   macro avg       0.89      0.86      0.86       815\n",
            "weighted avg       0.89      0.87      0.86       815\n",
            "\n"
          ]
        }
      ]
    },
    {
      "cell_type": "code",
      "metadata": {
        "id": "N-eDIhKRK8tP",
        "colab": {
          "base_uri": "https://localhost:8080/",
          "height": 122
        },
        "outputId": "6880db9c-1b0c-4894-dca4-f65885fcfac4"
      },
      "source": [
        "'''#Retrieve a batch of images from the test set\n",
        "image_batch, label_batch = test_norm_ds.as_numpy_iterator().next()\n",
        "predictions = model.predict_on_batch(image_batch).flatten()\n",
        "\n",
        "# Apply a sigmoid since our model returns logits\n",
        "#predictions = tf.nn.sigmoid(predictions)\n",
        "predictions = tf.where(predictions < 0.5, 0, 1)\n",
        "\n",
        "print('Predictions:\\n', predictions.numpy())\n",
        "print('Labels:\\n', label_batch)\n",
        "\n",
        "plt.figure(figsize=(10, 10))\n",
        "for i in range(9):\n",
        "  ax = plt.subplot(3, 3, i + 1)\n",
        "  plt.imshow(image_batch[i].astype(\"uint8\"))\n",
        "  plt.title(class_names[predictions[i]])\n",
        "  plt.axis(\"off\")'''"
      ],
      "execution_count": null,
      "outputs": [
        {
          "output_type": "execute_result",
          "data": {
            "application/vnd.google.colaboratory.intrinsic+json": {
              "type": "string"
            },
            "text/plain": [
              "'#Retrieve a batch of images from the test set\\nimage_batch, label_batch = test_norm_ds.as_numpy_iterator().next()\\npredictions = model.predict_on_batch(image_batch).flatten()\\n\\n# Apply a sigmoid since our model returns logits\\n#predictions = tf.nn.sigmoid(predictions)\\npredictions = tf.where(predictions < 0.5, 0, 1)\\n\\nprint(\\'Predictions:\\n\\', predictions.numpy())\\nprint(\\'Labels:\\n\\', label_batch)\\n\\nplt.figure(figsize=(10, 10))\\nfor i in range(9):\\n  ax = plt.subplot(3, 3, i + 1)\\n  plt.imshow(image_batch[i].astype(\"uint8\"))\\n  plt.title(class_names[predictions[i]])\\n  plt.axis(\"off\")'"
            ]
          },
          "metadata": {},
          "execution_count": 28
        }
      ]
    },
    {
      "cell_type": "markdown",
      "source": [
        "## Serialize model to JSON"
      ],
      "metadata": {
        "id": "rpDPIPRN4aHw"
      }
    },
    {
      "cell_type": "code",
      "source": [
        "model_json = model.to_json()\n",
        "with open(\"model.json\", \"w\") as json_file:\n",
        "    json_file.write(model_json)\n",
        "# serialize weights to HDF5\n",
        "model.save_weights(\"model.h5\")\n",
        "print(\"Saved model to disk\")"
      ],
      "metadata": {
        "id": "JIRTRbu74il0",
        "colab": {
          "base_uri": "https://localhost:8080/"
        },
        "outputId": "2847fb06-ea72-48a0-efda-46e26b892399"
      },
      "execution_count": null,
      "outputs": [
        {
          "output_type": "stream",
          "name": "stderr",
          "text": [
            "/usr/local/lib/python3.7/dist-packages/keras/engine/functional.py:1410: CustomMaskWarning: Custom mask layers require a config and must override get_config. When loading, the custom mask layer must be passed to the custom_objects argument.\n",
            "  layer_config = serialize_layer_fn(layer)\n"
          ]
        },
        {
          "output_type": "stream",
          "name": "stdout",
          "text": [
            "Saved model to disk\n"
          ]
        }
      ]
    }
  ]
}