{
  "nbformat": 4,
  "nbformat_minor": 0,
  "metadata": {
    "accelerator": "GPU",
    "colab": {
      "name": "Parted Augmentation base03(EFICIENTNETB0).ipynb",
      "provenance": [],
      "collapsed_sections": []
    },
    "kernelspec": {
      "display_name": "Python 3",
      "name": "python3"
    }
  },
  "cells": [
    {
      "cell_type": "code",
      "metadata": {
        "colab": {
          "base_uri": "https://localhost:8080/"
        },
        "id": "TflFz__Mj5AD",
        "outputId": "a6e5bfd8-df5b-4322-87bd-3340ca7d0eaa"
      },
      "source": [
        "from google.colab import drive\n",
        "drive.mount('/content/drive')"
      ],
      "execution_count": null,
      "outputs": [
        {
          "output_type": "stream",
          "name": "stdout",
          "text": [
            "Drive already mounted at /content/drive; to attempt to forcibly remount, call drive.mount(\"/content/drive\", force_remount=True).\n"
          ]
        }
      ]
    },
    {
      "cell_type": "code",
      "metadata": {
        "id": "uwQRKadne03q"
      },
      "source": [
        "%tensorflow_version 2.x\n",
        "import tensorflow as tf\n",
        "#import tensorflow_addons as tfa\n",
        "from imutils import paths\n",
        "import os\n",
        "import cv2\n",
        "import numpy as np\n",
        "from tensorflow.keras.preprocessing.image import ImageDataGenerator\n",
        "from sklearn.preprocessing import LabelEncoder\n",
        "from keras.utils import np_utils\n",
        "from sklearn.metrics import classification_report, confusion_matrix\n",
        "import itertools\n",
        "\n",
        "import matplotlib.pyplot as plt\n",
        "#matplotlib.use(\"Agg\")\n",
        "from sklearn.metrics import classification_report, confusion_matrix\n",
        "from sklearn.model_selection import train_test_split\n",
        "from keras.callbacks import EarlyStopping\n",
        "from sklearn.utils import class_weight\n",
        "\n",
        "\n"
      ],
      "execution_count": null,
      "outputs": []
    },
    {
      "cell_type": "markdown",
      "metadata": {
        "id": "2CNRfViw9143"
      },
      "source": [
        "## Qual GPU está sendo usada"
      ]
    },
    {
      "cell_type": "code",
      "metadata": {
        "id": "23TOba33L4qf",
        "colab": {
          "base_uri": "https://localhost:8080/"
        },
        "outputId": "f1afa1d1-38f5-4e19-9754-b4b51af79315"
      },
      "source": [
        "gpu_info = !nvidia-smi\n",
        "gpu_info = '\\n'.join(gpu_info)\n",
        "if gpu_info.find('failed') >= 0:\n",
        "  print('Select the Runtime > \"Change runtime type\" menu to enable a GPU accelerator, ')\n",
        "  print('and then re-execute this cell.')\n",
        "else:\n",
        "  print(gpu_info)"
      ],
      "execution_count": null,
      "outputs": [
        {
          "output_type": "stream",
          "name": "stdout",
          "text": [
            "Tue Dec 28 15:04:28 2021       \n",
            "+-----------------------------------------------------------------------------+\n",
            "| NVIDIA-SMI 495.44       Driver Version: 460.32.03    CUDA Version: 11.2     |\n",
            "|-------------------------------+----------------------+----------------------+\n",
            "| GPU  Name        Persistence-M| Bus-Id        Disp.A | Volatile Uncorr. ECC |\n",
            "| Fan  Temp  Perf  Pwr:Usage/Cap|         Memory-Usage | GPU-Util  Compute M. |\n",
            "|                               |                      |               MIG M. |\n",
            "|===============================+======================+======================|\n",
            "|   0  Tesla P100-PCIE...  Off  | 00000000:00:04.0 Off |                    0 |\n",
            "| N/A   51C    P0    39W / 250W |   8765MiB / 16280MiB |      0%      Default |\n",
            "|                               |                      |                  N/A |\n",
            "+-------------------------------+----------------------+----------------------+\n",
            "                                                                               \n",
            "+-----------------------------------------------------------------------------+\n",
            "| Processes:                                                                  |\n",
            "|  GPU   GI   CI        PID   Type   Process name                  GPU Memory |\n",
            "|        ID   ID                                                   Usage      |\n",
            "|=============================================================================|\n",
            "|  No running processes found                                                 |\n",
            "+-----------------------------------------------------------------------------+\n"
          ]
        }
      ]
    },
    {
      "cell_type": "code",
      "metadata": {
        "id": "CgZX9vgQojo_"
      },
      "source": [
        "BS = 32\n",
        "img_height = 224\n",
        "img_width = 224\n",
        "\n",
        "INIT_LR = 0.0001\n",
        "EPOCHS = 300\n",
        "\n",
        "SEED = 42"
      ],
      "execution_count": null,
      "outputs": []
    },
    {
      "cell_type": "code",
      "metadata": {
        "id": "KjE7UUnAe04E"
      },
      "source": [
        "#data_dir = list(paths.list_images(\"/content/drive/My Drive/mosquitoes-datasets/base01\"))\n",
        "train_dir = \"/content/drive/My Drive/mosquitoes-datasets/parted/base03/train\"\n",
        "validation_dir = \"/content/drive/My Drive/mosquitoes-datasets/parted/base03/validation\"\n",
        "test_dir = \"/content/drive/My Drive/mosquitoes-datasets/parted/base03/test\""
      ],
      "execution_count": null,
      "outputs": []
    },
    {
      "cell_type": "code",
      "metadata": {
        "id": "XeRPNQX1DoU6"
      },
      "source": [
        "\ttrain_datagen = ImageDataGenerator(\n",
        "    rescale=1./255,\n",
        "\t\trotation_range=20,\n",
        "\t\tzoom_range=0.15,\n",
        "\t\twidth_shift_range=0.2,\n",
        "\t\theight_shift_range=0.2,\n",
        "\t\tshear_range=0.15,\n",
        "\t\thorizontal_flip=True,\n",
        "\t\tfill_mode=\"nearest\",)"
      ],
      "execution_count": null,
      "outputs": []
    },
    {
      "cell_type": "code",
      "metadata": {
        "id": "eWoEhuzOKGTW"
      },
      "source": [
        "    val_datagen = ImageDataGenerator(\n",
        "    rescale=1./255,)"
      ],
      "execution_count": null,
      "outputs": []
    },
    {
      "cell_type": "code",
      "metadata": {
        "id": "jibYXQvnD-NW"
      },
      "source": [
        "    test_datagen = ImageDataGenerator(\n",
        "    rescale=1./255,)"
      ],
      "execution_count": null,
      "outputs": []
    },
    {
      "cell_type": "code",
      "metadata": {
        "colab": {
          "base_uri": "https://localhost:8080/"
        },
        "id": "dMj4FtSfS5Mt",
        "outputId": "b23fa4a4-54ed-4734-95d1-ea0620e2dbbc"
      },
      "source": [
        "train_ds = train_datagen.flow_from_directory(\n",
        "  directory = train_dir,\n",
        "  target_size=(img_height, img_width),\n",
        "  batch_size=BS,\n",
        "  seed=SEED,\n",
        "  class_mode='categorical',)"
      ],
      "execution_count": null,
      "outputs": [
        {
          "output_type": "stream",
          "name": "stdout",
          "text": [
            "Found 3802 images belonging to 6 classes.\n"
          ]
        }
      ]
    },
    {
      "cell_type": "code",
      "metadata": {
        "colab": {
          "base_uri": "https://localhost:8080/"
        },
        "id": "QQDvRPIeS9k2",
        "outputId": "d9e39d1c-19b4-422b-e54d-84d290349816"
      },
      "source": [
        "val_ds = val_datagen.flow_from_directory(\n",
        "  directory = validation_dir,\n",
        "  target_size=(img_height, img_width),\n",
        "  batch_size=BS,\n",
        "  seed=SEED,\n",
        "  class_mode='categorical',)\n"
      ],
      "execution_count": null,
      "outputs": [
        {
          "output_type": "stream",
          "name": "stdout",
          "text": [
            "Found 815 images belonging to 6 classes.\n"
          ]
        }
      ]
    },
    {
      "cell_type": "code",
      "metadata": {
        "colab": {
          "base_uri": "https://localhost:8080/"
        },
        "outputId": "1bd5e485-93ad-49ca-ebb0-c38adce20363",
        "id": "HV6sTiecEQmp"
      },
      "source": [
        "test_ds = test_datagen.flow_from_directory(\n",
        "  directory = test_dir,\n",
        "  target_size=(img_height, img_width),\n",
        "  batch_size=BS,\n",
        "  shuffle=False,\n",
        "  seed=SEED,\n",
        "  class_mode='categorical',)\n"
      ],
      "execution_count": null,
      "outputs": [
        {
          "output_type": "stream",
          "name": "stdout",
          "text": [
            "Found 815 images belonging to 6 classes.\n"
          ]
        }
      ]
    },
    {
      "cell_type": "code",
      "metadata": {
        "colab": {
          "base_uri": "https://localhost:8080/"
        },
        "id": "9BOEyfufTYzk",
        "outputId": "f5b604e3-cb87-447f-83bc-c3cd33b6146a"
      },
      "source": [
        "class_names = train_ds.class_indices\n",
        "print(class_names)"
      ],
      "execution_count": null,
      "outputs": [
        {
          "output_type": "stream",
          "name": "stdout",
          "text": [
            "{'aae-femea': 0, 'aae-macho': 1, 'aal-femea': 2, 'aal-macho': 3, 'cq-femea': 4, 'cq-macho': 5}\n"
          ]
        }
      ]
    },
    {
      "cell_type": "code",
      "metadata": {
        "id": "RSkzdv8MD0tT"
      },
      "source": [
        "loss_fn = tf.keras.losses.CategoricalCrossentropy()\n",
        "\n",
        "opt = tf.keras.optimizers.Adam(learning_rate=INIT_LR)"
      ],
      "execution_count": null,
      "outputs": []
    },
    {
      "cell_type": "code",
      "source": [
        "class_weights = class_weight.compute_class_weight(\n",
        "            class_weight = 'balanced',\n",
        "            classes = np.unique(train_ds.classes), \n",
        "            y = train_ds.classes)\n",
        "\n",
        "train_class_weights = dict(enumerate(class_weights))"
      ],
      "metadata": {
        "id": "F4HETeFS3DRh"
      },
      "execution_count": null,
      "outputs": []
    },
    {
      "cell_type": "code",
      "source": [
        "train_class_weights"
      ],
      "metadata": {
        "id": "tM3BV4CGD1EH",
        "colab": {
          "base_uri": "https://localhost:8080/"
        },
        "outputId": "7d3fdee4-ee99-405d-f412-248c0d934cc7"
      },
      "execution_count": null,
      "outputs": [
        {
          "output_type": "execute_result",
          "data": {
            "text/plain": [
              "{0: 0.9052380952380953,\n",
              " 1: 0.9052380952380953,\n",
              " 2: 1.309228650137741,\n",
              " 3: 1.2232947232947233,\n",
              " 4: 0.9052380952380953,\n",
              " 5: 0.9052380952380953}"
            ]
          },
          "metadata": {},
          "execution_count": 44
        }
      ]
    },
    {
      "cell_type": "code",
      "metadata": {
        "id": "I9AjYaVNBas_"
      },
      "source": [
        "model = tf.keras.applications.EfficientNetB0(include_top=True,\n",
        "                                             weights=None,\n",
        "                                             input_shape=(img_height,img_width,3),\n",
        "                                             classes=6)"
      ],
      "execution_count": null,
      "outputs": []
    },
    {
      "cell_type": "code",
      "metadata": {
        "id": "LtAVr-4CP1rp"
      },
      "source": [
        ""
      ],
      "execution_count": null,
      "outputs": []
    },
    {
      "cell_type": "code",
      "metadata": {
        "id": "0pnsnQMZe05C"
      },
      "source": [
        "model.compile(loss=loss_fn,optimizer = opt, metrics = ['accuracy'])"
      ],
      "execution_count": null,
      "outputs": []
    },
    {
      "cell_type": "code",
      "metadata": {
        "id": "EoaCPDnvn3BB"
      },
      "source": [
        "# simple early stopping \n",
        "es = EarlyStopping(monitor='val_loss', mode='min', verbose=1, patience=20)"
      ],
      "execution_count": null,
      "outputs": []
    },
    {
      "cell_type": "code",
      "metadata": {
        "colab": {
          "base_uri": "https://localhost:8080/"
        },
        "id": "RfNtd1_Je05H",
        "outputId": "17c77953-7934-4455-96d0-00bd4a14d208"
      },
      "source": [
        "import time\n",
        "inicio = time.process_time()\n",
        "\n",
        "H = model.fit(train_ds,batch_size=BS,\n",
        "              validation_data=val_ds,\n",
        "              class_weight=train_class_weights,\n",
        "              epochs=EPOCHS,\n",
        "              callbacks=[es])\n",
        "\n",
        "fim = time.process_time()\n",
        "tempo = fim - inicio"
      ],
      "execution_count": null,
      "outputs": [
        {
          "output_type": "stream",
          "name": "stdout",
          "text": [
            "Epoch 1/300\n",
            "119/119 [==============================] - 112s 857ms/step - loss: 2.3469 - accuracy: 0.2470 - val_loss: 1.9723 - val_accuracy: 0.1840\n",
            "Epoch 2/300\n",
            "119/119 [==============================] - 100s 836ms/step - loss: 2.1111 - accuracy: 0.3030 - val_loss: 3.6841 - val_accuracy: 0.1840\n",
            "Epoch 3/300\n",
            "119/119 [==============================] - 100s 839ms/step - loss: 1.8370 - accuracy: 0.3453 - val_loss: 3.2466 - val_accuracy: 0.1840\n",
            "Epoch 4/300\n",
            "119/119 [==============================] - 100s 835ms/step - loss: 1.7175 - accuracy: 0.3685 - val_loss: 2.2880 - val_accuracy: 0.1840\n",
            "Epoch 5/300\n",
            "119/119 [==============================] - 99s 833ms/step - loss: 1.6598 - accuracy: 0.3874 - val_loss: 3.6497 - val_accuracy: 0.1840\n",
            "Epoch 6/300\n",
            "119/119 [==============================] - 99s 834ms/step - loss: 1.6404 - accuracy: 0.3919 - val_loss: 5.6012 - val_accuracy: 0.1840\n",
            "Epoch 7/300\n",
            "119/119 [==============================] - 99s 831ms/step - loss: 1.4890 - accuracy: 0.4195 - val_loss: 3.5473 - val_accuracy: 0.2270\n",
            "Epoch 8/300\n",
            "119/119 [==============================] - 100s 837ms/step - loss: 1.4227 - accuracy: 0.4290 - val_loss: 3.0987 - val_accuracy: 0.2650\n",
            "Epoch 9/300\n",
            "119/119 [==============================] - 99s 830ms/step - loss: 1.3981 - accuracy: 0.4274 - val_loss: 4.1497 - val_accuracy: 0.4172\n",
            "Epoch 10/300\n",
            "119/119 [==============================] - 99s 830ms/step - loss: 1.3673 - accuracy: 0.4456 - val_loss: 7.9280 - val_accuracy: 0.3534\n",
            "Epoch 11/300\n",
            "119/119 [==============================] - 99s 835ms/step - loss: 1.2950 - accuracy: 0.4779 - val_loss: 1.5384 - val_accuracy: 0.5067\n",
            "Epoch 12/300\n",
            "119/119 [==============================] - 99s 830ms/step - loss: 1.2270 - accuracy: 0.4958 - val_loss: 1.1779 - val_accuracy: 0.5239\n",
            "Epoch 13/300\n",
            "119/119 [==============================] - 99s 831ms/step - loss: 1.1481 - accuracy: 0.5334 - val_loss: 1.6598 - val_accuracy: 0.5276\n",
            "Epoch 14/300\n",
            "119/119 [==============================] - 99s 834ms/step - loss: 1.1346 - accuracy: 0.5416 - val_loss: 3.5121 - val_accuracy: 0.4957\n",
            "Epoch 15/300\n",
            "119/119 [==============================] - 99s 829ms/step - loss: 1.0423 - accuracy: 0.5681 - val_loss: 2.4672 - val_accuracy: 0.5840\n",
            "Epoch 16/300\n",
            "119/119 [==============================] - 99s 830ms/step - loss: 1.0348 - accuracy: 0.5871 - val_loss: 2.9758 - val_accuracy: 0.4957\n",
            "Epoch 17/300\n",
            "119/119 [==============================] - 99s 834ms/step - loss: 0.9950 - accuracy: 0.5939 - val_loss: 6.5533 - val_accuracy: 0.5791\n",
            "Epoch 18/300\n",
            "119/119 [==============================] - 99s 834ms/step - loss: 0.9682 - accuracy: 0.6220 - val_loss: 1.4988 - val_accuracy: 0.6037\n",
            "Epoch 19/300\n",
            "119/119 [==============================] - 99s 831ms/step - loss: 0.9700 - accuracy: 0.6139 - val_loss: 0.9303 - val_accuracy: 0.6724\n",
            "Epoch 20/300\n",
            "119/119 [==============================] - 98s 827ms/step - loss: 0.9598 - accuracy: 0.6405 - val_loss: 2.0772 - val_accuracy: 0.5153\n",
            "Epoch 21/300\n",
            "119/119 [==============================] - 99s 829ms/step - loss: 0.8850 - accuracy: 0.6486 - val_loss: 2.0412 - val_accuracy: 0.5742\n",
            "Epoch 22/300\n",
            "119/119 [==============================] - 99s 832ms/step - loss: 0.8873 - accuracy: 0.6610 - val_loss: 0.8921 - val_accuracy: 0.6380\n",
            "Epoch 23/300\n",
            "119/119 [==============================] - 99s 834ms/step - loss: 0.8645 - accuracy: 0.6712 - val_loss: 1.3451 - val_accuracy: 0.5472\n",
            "Epoch 24/300\n",
            "119/119 [==============================] - 99s 833ms/step - loss: 0.8230 - accuracy: 0.6781 - val_loss: 1.2598 - val_accuracy: 0.6172\n",
            "Epoch 25/300\n",
            "119/119 [==============================] - 99s 832ms/step - loss: 0.7881 - accuracy: 0.6923 - val_loss: 1.6054 - val_accuracy: 0.6663\n",
            "Epoch 26/300\n",
            "119/119 [==============================] - 98s 825ms/step - loss: 0.8013 - accuracy: 0.6978 - val_loss: 3.2453 - val_accuracy: 0.5718\n",
            "Epoch 27/300\n",
            "119/119 [==============================] - 99s 832ms/step - loss: 0.7813 - accuracy: 0.6999 - val_loss: 1.0143 - val_accuracy: 0.6736\n",
            "Epoch 28/300\n",
            "119/119 [==============================] - 98s 825ms/step - loss: 0.7739 - accuracy: 0.7130 - val_loss: 1.2213 - val_accuracy: 0.6834\n",
            "Epoch 29/300\n",
            "119/119 [==============================] - 99s 830ms/step - loss: 0.6953 - accuracy: 0.7309 - val_loss: 1.1033 - val_accuracy: 0.6822\n",
            "Epoch 30/300\n",
            "119/119 [==============================] - 99s 828ms/step - loss: 0.7460 - accuracy: 0.7270 - val_loss: 1.4902 - val_accuracy: 0.6282\n",
            "Epoch 31/300\n",
            "119/119 [==============================] - 99s 832ms/step - loss: 0.7519 - accuracy: 0.7346 - val_loss: 0.6026 - val_accuracy: 0.7534\n",
            "Epoch 32/300\n",
            "119/119 [==============================] - 99s 827ms/step - loss: 0.7278 - accuracy: 0.7320 - val_loss: 0.8654 - val_accuracy: 0.6528\n",
            "Epoch 33/300\n",
            "119/119 [==============================] - 98s 820ms/step - loss: 0.7287 - accuracy: 0.7209 - val_loss: 0.5463 - val_accuracy: 0.7791\n",
            "Epoch 34/300\n",
            "119/119 [==============================] - 96s 804ms/step - loss: 0.7013 - accuracy: 0.7430 - val_loss: 0.8287 - val_accuracy: 0.6822\n",
            "Epoch 35/300\n",
            "119/119 [==============================] - 97s 817ms/step - loss: 0.6404 - accuracy: 0.7670 - val_loss: 0.5273 - val_accuracy: 0.7865\n",
            "Epoch 36/300\n",
            "119/119 [==============================] - 99s 830ms/step - loss: 0.6537 - accuracy: 0.7504 - val_loss: 0.6790 - val_accuracy: 0.7767\n",
            "Epoch 37/300\n",
            "119/119 [==============================] - 99s 828ms/step - loss: 0.6665 - accuracy: 0.7538 - val_loss: 0.4752 - val_accuracy: 0.8098\n",
            "Epoch 38/300\n",
            "119/119 [==============================] - 98s 825ms/step - loss: 0.6688 - accuracy: 0.7536 - val_loss: 0.5177 - val_accuracy: 0.8147\n",
            "Epoch 39/300\n",
            "119/119 [==============================] - 99s 833ms/step - loss: 0.6177 - accuracy: 0.7762 - val_loss: 0.9909 - val_accuracy: 0.7436\n",
            "Epoch 40/300\n",
            "119/119 [==============================] - 98s 820ms/step - loss: 0.5959 - accuracy: 0.7767 - val_loss: 0.9386 - val_accuracy: 0.7509\n",
            "Epoch 41/300\n",
            "119/119 [==============================] - 98s 825ms/step - loss: 0.6000 - accuracy: 0.7759 - val_loss: 0.5931 - val_accuracy: 0.8160\n",
            "Epoch 42/300\n",
            "119/119 [==============================] - 98s 823ms/step - loss: 0.5998 - accuracy: 0.7822 - val_loss: 0.6634 - val_accuracy: 0.7448\n",
            "Epoch 43/300\n",
            "119/119 [==============================] - 98s 822ms/step - loss: 0.6070 - accuracy: 0.7754 - val_loss: 0.5446 - val_accuracy: 0.7890\n",
            "Epoch 44/300\n",
            "119/119 [==============================] - 98s 826ms/step - loss: 0.5791 - accuracy: 0.7838 - val_loss: 1.5967 - val_accuracy: 0.6147\n",
            "Epoch 45/300\n",
            "119/119 [==============================] - 98s 821ms/step - loss: 0.5586 - accuracy: 0.7954 - val_loss: 0.6637 - val_accuracy: 0.7693\n",
            "Epoch 46/300\n",
            "119/119 [==============================] - 97s 818ms/step - loss: 0.5202 - accuracy: 0.7993 - val_loss: 0.5552 - val_accuracy: 0.8233\n",
            "Epoch 47/300\n",
            "119/119 [==============================] - 99s 833ms/step - loss: 0.5593 - accuracy: 0.7893 - val_loss: 0.4614 - val_accuracy: 0.8368\n",
            "Epoch 48/300\n",
            "119/119 [==============================] - 100s 842ms/step - loss: 0.5274 - accuracy: 0.8056 - val_loss: 0.6528 - val_accuracy: 0.7877\n",
            "Epoch 49/300\n",
            "119/119 [==============================] - 100s 842ms/step - loss: 0.5157 - accuracy: 0.8059 - val_loss: 0.4201 - val_accuracy: 0.8589\n",
            "Epoch 50/300\n",
            "119/119 [==============================] - 100s 842ms/step - loss: 0.4837 - accuracy: 0.8219 - val_loss: 0.4315 - val_accuracy: 0.8405\n",
            "Epoch 51/300\n",
            "119/119 [==============================] - 101s 845ms/step - loss: 0.4776 - accuracy: 0.8235 - val_loss: 0.4313 - val_accuracy: 0.8577\n",
            "Epoch 52/300\n",
            "119/119 [==============================] - 101s 850ms/step - loss: 0.4664 - accuracy: 0.8240 - val_loss: 0.4694 - val_accuracy: 0.8515\n",
            "Epoch 53/300\n",
            "119/119 [==============================] - 100s 840ms/step - loss: 0.4806 - accuracy: 0.8227 - val_loss: 0.4444 - val_accuracy: 0.8675\n",
            "Epoch 54/300\n",
            "119/119 [==============================] - 99s 831ms/step - loss: 0.4525 - accuracy: 0.8314 - val_loss: 0.5703 - val_accuracy: 0.8380\n",
            "Epoch 55/300\n",
            "119/119 [==============================] - 99s 832ms/step - loss: 0.4481 - accuracy: 0.8380 - val_loss: 0.7011 - val_accuracy: 0.8160\n",
            "Epoch 56/300\n",
            "119/119 [==============================] - 99s 829ms/step - loss: 0.4394 - accuracy: 0.8411 - val_loss: 1.1601 - val_accuracy: 0.7166\n",
            "Epoch 57/300\n",
            "119/119 [==============================] - 98s 822ms/step - loss: 0.4511 - accuracy: 0.8351 - val_loss: 0.8488 - val_accuracy: 0.7718\n",
            "Epoch 58/300\n",
            "119/119 [==============================] - 99s 831ms/step - loss: 0.4286 - accuracy: 0.8451 - val_loss: 0.4357 - val_accuracy: 0.8748\n",
            "Epoch 59/300\n",
            "119/119 [==============================] - 98s 826ms/step - loss: 0.4376 - accuracy: 0.8393 - val_loss: 2.6167 - val_accuracy: 0.6319\n",
            "Epoch 60/300\n",
            "119/119 [==============================] - 99s 830ms/step - loss: 0.4301 - accuracy: 0.8524 - val_loss: 0.5193 - val_accuracy: 0.8491\n",
            "Epoch 61/300\n",
            "119/119 [==============================] - 99s 829ms/step - loss: 0.3964 - accuracy: 0.8543 - val_loss: 0.6379 - val_accuracy: 0.8699\n",
            "Epoch 62/300\n",
            "119/119 [==============================] - 100s 840ms/step - loss: 0.3701 - accuracy: 0.8659 - val_loss: 0.4581 - val_accuracy: 0.8969\n",
            "Epoch 63/300\n",
            "119/119 [==============================] - 100s 841ms/step - loss: 0.3935 - accuracy: 0.8567 - val_loss: 0.4171 - val_accuracy: 0.8785\n",
            "Epoch 64/300\n",
            "119/119 [==============================] - 101s 849ms/step - loss: 0.3637 - accuracy: 0.8680 - val_loss: 3.4629 - val_accuracy: 0.5926\n",
            "Epoch 65/300\n",
            "119/119 [==============================] - 99s 833ms/step - loss: 0.3363 - accuracy: 0.8740 - val_loss: 0.9070 - val_accuracy: 0.7816\n",
            "Epoch 66/300\n",
            "119/119 [==============================] - 102s 854ms/step - loss: 0.3607 - accuracy: 0.8648 - val_loss: 0.6024 - val_accuracy: 0.8785\n",
            "Epoch 67/300\n",
            "119/119 [==============================] - 101s 846ms/step - loss: 0.3297 - accuracy: 0.8827 - val_loss: 0.4762 - val_accuracy: 0.8577\n",
            "Epoch 68/300\n",
            "119/119 [==============================] - 101s 848ms/step - loss: 0.3234 - accuracy: 0.8803 - val_loss: 0.5032 - val_accuracy: 0.8712\n",
            "Epoch 69/300\n",
            "119/119 [==============================] - 101s 849ms/step - loss: 0.3284 - accuracy: 0.8780 - val_loss: 0.4056 - val_accuracy: 0.8699\n",
            "Epoch 70/300\n",
            "119/119 [==============================] - 101s 848ms/step - loss: 0.3739 - accuracy: 0.8706 - val_loss: 0.3819 - val_accuracy: 0.9006\n",
            "Epoch 71/300\n",
            "119/119 [==============================] - 101s 850ms/step - loss: 0.3072 - accuracy: 0.8843 - val_loss: 0.3468 - val_accuracy: 0.8933\n",
            "Epoch 72/300\n",
            "119/119 [==============================] - 100s 842ms/step - loss: 0.3059 - accuracy: 0.8919 - val_loss: 0.6536 - val_accuracy: 0.8417\n",
            "Epoch 73/300\n",
            "119/119 [==============================] - 99s 833ms/step - loss: 0.3030 - accuracy: 0.8927 - val_loss: 0.4756 - val_accuracy: 0.8650\n",
            "Epoch 74/300\n",
            "119/119 [==============================] - 99s 834ms/step - loss: 0.3147 - accuracy: 0.8824 - val_loss: 0.5734 - val_accuracy: 0.8221\n",
            "Epoch 75/300\n",
            "119/119 [==============================] - 99s 829ms/step - loss: 0.2738 - accuracy: 0.8935 - val_loss: 1.5167 - val_accuracy: 0.7104\n",
            "Epoch 76/300\n",
            "119/119 [==============================] - 101s 846ms/step - loss: 0.2758 - accuracy: 0.8974 - val_loss: 0.9827 - val_accuracy: 0.8025\n",
            "Epoch 77/300\n",
            "119/119 [==============================] - 100s 841ms/step - loss: 0.2694 - accuracy: 0.9066 - val_loss: 0.5500 - val_accuracy: 0.8393\n",
            "Epoch 78/300\n",
            "119/119 [==============================] - 99s 830ms/step - loss: 0.2622 - accuracy: 0.9035 - val_loss: 0.2334 - val_accuracy: 0.9190\n",
            "Epoch 79/300\n",
            "119/119 [==============================] - 99s 832ms/step - loss: 0.2881 - accuracy: 0.8930 - val_loss: 0.3985 - val_accuracy: 0.8871\n",
            "Epoch 80/300\n",
            "119/119 [==============================] - 99s 829ms/step - loss: 0.2403 - accuracy: 0.9132 - val_loss: 0.5570 - val_accuracy: 0.8393\n",
            "Epoch 81/300\n",
            "119/119 [==============================] - 99s 833ms/step - loss: 0.2968 - accuracy: 0.8979 - val_loss: 0.5966 - val_accuracy: 0.8442\n",
            "Epoch 82/300\n",
            "119/119 [==============================] - 97s 811ms/step - loss: 0.2617 - accuracy: 0.9029 - val_loss: 0.3681 - val_accuracy: 0.8810\n",
            "Epoch 83/300\n",
            "119/119 [==============================] - 100s 838ms/step - loss: 0.2306 - accuracy: 0.9161 - val_loss: 0.7723 - val_accuracy: 0.8405\n",
            "Epoch 84/300\n",
            "119/119 [==============================] - 99s 830ms/step - loss: 0.2689 - accuracy: 0.9082 - val_loss: 0.3246 - val_accuracy: 0.8920\n",
            "Epoch 85/300\n",
            "119/119 [==============================] - 100s 836ms/step - loss: 0.2580 - accuracy: 0.9058 - val_loss: 0.2659 - val_accuracy: 0.9141\n",
            "Epoch 86/300\n",
            "119/119 [==============================] - 100s 842ms/step - loss: 0.2409 - accuracy: 0.9108 - val_loss: 0.2323 - val_accuracy: 0.9288\n",
            "Epoch 87/300\n",
            "119/119 [==============================] - 100s 840ms/step - loss: 0.2652 - accuracy: 0.9037 - val_loss: 0.2561 - val_accuracy: 0.9252\n",
            "Epoch 88/300\n",
            "119/119 [==============================] - 100s 843ms/step - loss: 0.2289 - accuracy: 0.9132 - val_loss: 0.2723 - val_accuracy: 0.9239\n",
            "Epoch 89/300\n",
            "119/119 [==============================] - 101s 844ms/step - loss: 0.2396 - accuracy: 0.9187 - val_loss: 0.7271 - val_accuracy: 0.8196\n",
            "Epoch 90/300\n",
            "119/119 [==============================] - 100s 839ms/step - loss: 0.2549 - accuracy: 0.9198 - val_loss: 0.3212 - val_accuracy: 0.8957\n",
            "Epoch 91/300\n",
            "119/119 [==============================] - 99s 833ms/step - loss: 0.2439 - accuracy: 0.9150 - val_loss: 0.1866 - val_accuracy: 0.9399\n",
            "Epoch 92/300\n",
            "119/119 [==============================] - 99s 829ms/step - loss: 0.2222 - accuracy: 0.9219 - val_loss: 0.2314 - val_accuracy: 0.9239\n",
            "Epoch 93/300\n",
            "119/119 [==============================] - 99s 829ms/step - loss: 0.2221 - accuracy: 0.9253 - val_loss: 0.3230 - val_accuracy: 0.9006\n",
            "Epoch 94/300\n",
            "119/119 [==============================] - 99s 829ms/step - loss: 0.2049 - accuracy: 0.9232 - val_loss: 0.2863 - val_accuracy: 0.9227\n",
            "Epoch 95/300\n",
            "119/119 [==============================] - 99s 830ms/step - loss: 0.1994 - accuracy: 0.9269 - val_loss: 0.3503 - val_accuracy: 0.8859\n",
            "Epoch 96/300\n",
            "119/119 [==============================] - 98s 820ms/step - loss: 0.1996 - accuracy: 0.9274 - val_loss: 0.5104 - val_accuracy: 0.8589\n",
            "Epoch 97/300\n",
            "119/119 [==============================] - 99s 833ms/step - loss: 0.2084 - accuracy: 0.9292 - val_loss: 0.3105 - val_accuracy: 0.9018\n",
            "Epoch 98/300\n",
            "119/119 [==============================] - 99s 829ms/step - loss: 0.1999 - accuracy: 0.9298 - val_loss: 0.2405 - val_accuracy: 0.9337\n",
            "Epoch 99/300\n",
            "119/119 [==============================] - 99s 829ms/step - loss: 0.1788 - accuracy: 0.9358 - val_loss: 0.6012 - val_accuracy: 0.8650\n",
            "Epoch 100/300\n",
            "119/119 [==============================] - 99s 828ms/step - loss: 0.1937 - accuracy: 0.9311 - val_loss: 0.3956 - val_accuracy: 0.8982\n",
            "Epoch 101/300\n",
            "119/119 [==============================] - 99s 829ms/step - loss: 0.2301 - accuracy: 0.9169 - val_loss: 1.1749 - val_accuracy: 0.8196\n",
            "Epoch 102/300\n",
            "119/119 [==============================] - 99s 829ms/step - loss: 0.1954 - accuracy: 0.9292 - val_loss: 0.3949 - val_accuracy: 0.8933\n",
            "Epoch 103/300\n",
            "119/119 [==============================] - 98s 826ms/step - loss: 0.1907 - accuracy: 0.9327 - val_loss: 0.3454 - val_accuracy: 0.8994\n",
            "Epoch 104/300\n",
            "119/119 [==============================] - 99s 828ms/step - loss: 0.1973 - accuracy: 0.9279 - val_loss: 0.2530 - val_accuracy: 0.9202\n",
            "Epoch 105/300\n",
            "119/119 [==============================] - 98s 824ms/step - loss: 0.1949 - accuracy: 0.9358 - val_loss: 0.2548 - val_accuracy: 0.9252\n",
            "Epoch 106/300\n",
            "119/119 [==============================] - 99s 829ms/step - loss: 0.1751 - accuracy: 0.9350 - val_loss: 0.4870 - val_accuracy: 0.8736\n",
            "Epoch 107/300\n",
            "119/119 [==============================] - 98s 825ms/step - loss: 0.1896 - accuracy: 0.9342 - val_loss: 0.2090 - val_accuracy: 0.9288\n",
            "Epoch 108/300\n",
            "119/119 [==============================] - 98s 822ms/step - loss: 0.1682 - accuracy: 0.9435 - val_loss: 0.4329 - val_accuracy: 0.8810\n",
            "Epoch 109/300\n",
            "119/119 [==============================] - 99s 835ms/step - loss: 0.1883 - accuracy: 0.9348 - val_loss: 0.3068 - val_accuracy: 0.9104\n",
            "Epoch 110/300\n",
            "119/119 [==============================] - 100s 839ms/step - loss: 0.1652 - accuracy: 0.9424 - val_loss: 0.2104 - val_accuracy: 0.9387\n",
            "Epoch 111/300\n",
            "119/119 [==============================] - 100s 837ms/step - loss: 0.1814 - accuracy: 0.9340 - val_loss: 0.1778 - val_accuracy: 0.9607\n",
            "Epoch 112/300\n",
            "119/119 [==============================] - 99s 828ms/step - loss: 0.1688 - accuracy: 0.9377 - val_loss: 0.1771 - val_accuracy: 0.9521\n",
            "Epoch 113/300\n",
            "119/119 [==============================] - 99s 831ms/step - loss: 0.1454 - accuracy: 0.9453 - val_loss: 0.1739 - val_accuracy: 0.9423\n",
            "Epoch 114/300\n",
            "119/119 [==============================] - 99s 833ms/step - loss: 0.1500 - accuracy: 0.9469 - val_loss: 0.2013 - val_accuracy: 0.9362\n",
            "Epoch 115/300\n",
            "119/119 [==============================] - 99s 829ms/step - loss: 0.1550 - accuracy: 0.9429 - val_loss: 0.2145 - val_accuracy: 0.9399\n",
            "Epoch 116/300\n",
            "119/119 [==============================] - 99s 828ms/step - loss: 0.1340 - accuracy: 0.9524 - val_loss: 0.2631 - val_accuracy: 0.9227\n",
            "Epoch 117/300\n",
            "119/119 [==============================] - 98s 824ms/step - loss: 0.1651 - accuracy: 0.9416 - val_loss: 0.3031 - val_accuracy: 0.9166\n",
            "Epoch 118/300\n",
            "119/119 [==============================] - 98s 822ms/step - loss: 0.1433 - accuracy: 0.9440 - val_loss: 0.1645 - val_accuracy: 0.9472\n",
            "Epoch 119/300\n",
            "119/119 [==============================] - 98s 824ms/step - loss: 0.1442 - accuracy: 0.9466 - val_loss: 0.6896 - val_accuracy: 0.8564\n",
            "Epoch 120/300\n",
            "119/119 [==============================] - 98s 824ms/step - loss: 0.1454 - accuracy: 0.9487 - val_loss: 0.1514 - val_accuracy: 0.9558\n",
            "Epoch 121/300\n",
            "119/119 [==============================] - 96s 807ms/step - loss: 0.1482 - accuracy: 0.9469 - val_loss: 0.2615 - val_accuracy: 0.9252\n",
            "Epoch 122/300\n",
            "119/119 [==============================] - 98s 821ms/step - loss: 0.1321 - accuracy: 0.9498 - val_loss: 0.1979 - val_accuracy: 0.9362\n",
            "Epoch 123/300\n",
            "119/119 [==============================] - 97s 813ms/step - loss: 0.1372 - accuracy: 0.9484 - val_loss: 0.1538 - val_accuracy: 0.9460\n",
            "Epoch 124/300\n",
            "119/119 [==============================] - 96s 806ms/step - loss: 0.1433 - accuracy: 0.9490 - val_loss: 0.1550 - val_accuracy: 0.9534\n",
            "Epoch 125/300\n",
            "119/119 [==============================] - 97s 813ms/step - loss: 0.1315 - accuracy: 0.9508 - val_loss: 0.2366 - val_accuracy: 0.9337\n",
            "Epoch 126/300\n",
            "119/119 [==============================] - 100s 836ms/step - loss: 0.1287 - accuracy: 0.9527 - val_loss: 0.3241 - val_accuracy: 0.9092\n",
            "Epoch 127/300\n",
            "119/119 [==============================] - 99s 833ms/step - loss: 0.1293 - accuracy: 0.9508 - val_loss: 0.2144 - val_accuracy: 0.9436\n",
            "Epoch 128/300\n",
            "119/119 [==============================] - 99s 836ms/step - loss: 0.1274 - accuracy: 0.9537 - val_loss: 0.1796 - val_accuracy: 0.9607\n",
            "Epoch 129/300\n",
            "119/119 [==============================] - 99s 832ms/step - loss: 0.1100 - accuracy: 0.9616 - val_loss: 0.2269 - val_accuracy: 0.9313\n",
            "Epoch 130/300\n",
            "119/119 [==============================] - 100s 838ms/step - loss: 0.1223 - accuracy: 0.9592 - val_loss: 0.2592 - val_accuracy: 0.9301\n",
            "Epoch 131/300\n",
            "119/119 [==============================] - 99s 833ms/step - loss: 0.1357 - accuracy: 0.9503 - val_loss: 0.6604 - val_accuracy: 0.8638\n",
            "Epoch 132/300\n",
            "119/119 [==============================] - 100s 839ms/step - loss: 0.1264 - accuracy: 0.9592 - val_loss: 0.4699 - val_accuracy: 0.8810\n",
            "Epoch 133/300\n",
            "119/119 [==============================] - 100s 840ms/step - loss: 0.1211 - accuracy: 0.9561 - val_loss: 0.1963 - val_accuracy: 0.9436\n",
            "Epoch 134/300\n",
            "119/119 [==============================] - 100s 841ms/step - loss: 0.1140 - accuracy: 0.9640 - val_loss: 0.2284 - val_accuracy: 0.9362\n",
            "Epoch 135/300\n",
            "119/119 [==============================] - 100s 844ms/step - loss: 0.1074 - accuracy: 0.9598 - val_loss: 0.2221 - val_accuracy: 0.9436\n",
            "Epoch 136/300\n",
            "119/119 [==============================] - 100s 835ms/step - loss: 0.1140 - accuracy: 0.9640 - val_loss: 0.2260 - val_accuracy: 0.9387\n",
            "Epoch 137/300\n",
            "119/119 [==============================] - 99s 833ms/step - loss: 0.0971 - accuracy: 0.9624 - val_loss: 0.1598 - val_accuracy: 0.9571\n",
            "Epoch 138/300\n",
            "119/119 [==============================] - 99s 827ms/step - loss: 0.1028 - accuracy: 0.9653 - val_loss: 0.1934 - val_accuracy: 0.9399\n",
            "Epoch 139/300\n",
            "119/119 [==============================] - 100s 842ms/step - loss: 0.1048 - accuracy: 0.9621 - val_loss: 0.4904 - val_accuracy: 0.8920\n",
            "Epoch 140/300\n",
            "119/119 [==============================] - 100s 836ms/step - loss: 0.0871 - accuracy: 0.9700 - val_loss: 0.1873 - val_accuracy: 0.9460\n",
            "Epoch 00140: early stopping\n"
          ]
        }
      ]
    },
    {
      "cell_type": "code",
      "source": [
        "tempo"
      ],
      "metadata": {
        "id": "6ZVbO8FfEQKl",
        "colab": {
          "base_uri": "https://localhost:8080/"
        },
        "outputId": "a84c76d8-2097-4dac-a552-e0c96f198c84"
      },
      "execution_count": null,
      "outputs": [
        {
          "output_type": "execute_result",
          "data": {
            "text/plain": [
              "16328.468205860001"
            ]
          },
          "metadata": {},
          "execution_count": 49
        }
      ]
    },
    {
      "cell_type": "code",
      "metadata": {
        "id": "g4F97Eq1e05b",
        "colab": {
          "base_uri": "https://localhost:8080/",
          "height": 295
        },
        "outputId": "9355bc08-f0df-4daa-c29e-aeb5f4631f34"
      },
      "source": [
        "if es.stopped_epoch!=0:\n",
        "  EPOCHS = es.stopped_epoch+1\n",
        "\n",
        "  \n",
        "# plot the training loss and accuracy\n",
        "N = np.arange(0, EPOCHS)\n",
        "#plt.style.use(\"ggplot\")\n",
        "plt.figure()\n",
        "plt.plot(N, H.history[\"loss\"], label=\"train_loss\")\n",
        "plt.plot(N, H.history[\"val_loss\"], label=\"val_loss\")\n",
        "plt.plot(N, H.history[\"accuracy\"], label=\"train_acc\")\n",
        "plt.plot(N, H.history[\"val_accuracy\"], label=\"val_acc\")\n",
        "plt.title(\"Training Loss and Accuracy on Dataset\")\n",
        "plt.xlabel(\"Epoch #\")\n",
        "plt.ylabel(\"Loss/Accuracy\")\n",
        "plt.legend(loc=\"lower left\")\n",
        "#plt.savefig(\"plot.png\")\n",
        "plt.show()"
      ],
      "execution_count": null,
      "outputs": [
        {
          "output_type": "display_data",
          "data": {
            "image/png": "[encoded data removed]",
            "text/plain": [
              "<Figure size 432x288 with 1 Axes>"
            ]
          },
          "metadata": {
            "needs_background": "light"
          }
        }
      ]
    },
    {
      "cell_type": "markdown",
      "metadata": {
        "id": "MxQXt7ZEJA6V"
      },
      "source": [
        "##Teste"
      ]
    },
    {
      "cell_type": "code",
      "source": [
        ""
      ],
      "metadata": {
        "id": "63V6KJVE5kGv"
      },
      "execution_count": null,
      "outputs": []
    },
    {
      "cell_type": "markdown",
      "source": [
        "## Get the accuracy score"
      ],
      "metadata": {
        "id": "kOxNG3EvJTck"
      }
    },
    {
      "cell_type": "code",
      "metadata": {
        "id": "v65JmWyDI_2c",
        "colab": {
          "base_uri": "https://localhost:8080/"
        },
        "outputId": "eb28a7d9-1fde-42e7-bead-26b1f54e736d"
      },
      "source": [
        "test_score = model.evaluate(test_ds)\n",
        "\n",
        "\n",
        "\n",
        "print(\"[INFO] accuracy: {:.2f}%\".format(test_score[1] * 100)) \n",
        "\n",
        "print(\"[INFO] Loss: \",test_score[0])"
      ],
      "execution_count": null,
      "outputs": [
        {
          "output_type": "stream",
          "name": "stdout",
          "text": [
            "26/26 [==============================] - 10s 376ms/step - loss: 0.2241 - accuracy: 0.9436\n",
            "[INFO] accuracy: 94.36%\n",
            "[INFO] Loss:  0.22414223849773407\n"
          ]
        }
      ]
    },
    {
      "cell_type": "markdown",
      "source": [
        "## Plot the confusion matrix. Set Normalize = True/False"
      ],
      "metadata": {
        "id": "RGgaG6rbJO9K"
      }
    },
    {
      "cell_type": "code",
      "source": [
        "def plot_confusion_matrix(cm, classes, normalize=True, title='Confusion matrix', cmap=plt.cm.Blues):\n",
        "\n",
        "    \"\"\"\n",
        "\n",
        "    This function prints and plots the confusion matrix.\n",
        "\n",
        "    Normalization can be applied by setting `normalize=True`.\n",
        "\n",
        "    \"\"\"\n",
        "\n",
        "    plt.figure(figsize=(10,10))\n",
        "\n",
        "\n",
        "\n",
        "    plt.imshow(cm, interpolation='nearest', cmap=cmap)\n",
        "\n",
        "    plt.title(title)\n",
        "\n",
        "    plt.colorbar()\n",
        "\n",
        "\n",
        "\n",
        "    tick_marks = np.arange(len(classes))\n",
        "\n",
        "    plt.xticks(tick_marks, classes, rotation=45)\n",
        "\n",
        "    plt.yticks(tick_marks, classes)\n",
        "\n",
        "\n",
        "\n",
        "    if normalize:\n",
        "\n",
        "        cm = cm.astype('float') / cm.sum(axis=1)[:, np.newaxis]\n",
        "\n",
        "        cm = np.around(cm, decimals=2)\n",
        "\n",
        "        cm[np.isnan(cm)] = 0.0\n",
        "\n",
        "        print(\"Normalized confusion matrix\")\n",
        "\n",
        "    else:\n",
        "\n",
        "        print('Confusion matrix, without normalization')\n",
        "\n",
        "    thresh = cm.max() / 2.\n",
        "\n",
        "    for i, j in itertools.product(range(cm.shape[0]), range(cm.shape[1])):\n",
        "\n",
        "        plt.text(j, i, cm[i, j],\n",
        "\n",
        "                 horizontalalignment=\"center\",\n",
        "\n",
        "                 color=\"white\" if cm[i, j] > thresh else \"black\")\n",
        "\n",
        "    plt.tight_layout()\n",
        "\n",
        "    plt.ylabel('True label')\n",
        "\n",
        "    plt.xlabel('Predicted label')"
      ],
      "metadata": {
        "id": "xAK6s1aqJRo4"
      },
      "execution_count": null,
      "outputs": []
    },
    {
      "cell_type": "markdown",
      "source": [
        "## Print the Target names"
      ],
      "metadata": {
        "id": "vEhWo093JptY"
      }
    },
    {
      "cell_type": "code",
      "source": [
        "target_names = []\n",
        "\n",
        "for key in train_ds.class_indices:\n",
        "\n",
        "    target_names.append(key)\n",
        "\n",
        "\n",
        "\n",
        "print(target_names)"
      ],
      "metadata": {
        "id": "pE-j3KV9JrrJ",
        "colab": {
          "base_uri": "https://localhost:8080/"
        },
        "outputId": "9fd6d88d-b000-423c-9e3a-dad580b5a64f"
      },
      "execution_count": null,
      "outputs": [
        {
          "output_type": "stream",
          "name": "stdout",
          "text": [
            "['aae-femea', 'aae-macho', 'aal-femea', 'aal-macho', 'cq-femea', 'cq-macho']\n"
          ]
        }
      ]
    },
    {
      "cell_type": "markdown",
      "source": [
        "## Confution Matrix"
      ],
      "metadata": {
        "id": "exHqdu21J2Vg"
      }
    },
    {
      "cell_type": "code",
      "source": [
        "Y_pred = model.predict_generator(test_ds)\n",
        "\n",
        "y_pred = np.argmax(Y_pred, axis=1)\n",
        "\n",
        "print('Confusion Matrix')\n",
        "\n",
        "cm = confusion_matrix(test_ds.classes, y_pred)\n",
        "\n",
        "plot_confusion_matrix(cm, target_names, False, title='Confusion Matrix')"
      ],
      "metadata": {
        "id": "JPcGgtFfJ4Jw",
        "colab": {
          "base_uri": "https://localhost:8080/",
          "height": 818
        },
        "outputId": "61e56a76-a840-4455-bcc5-4b784487b9ad"
      },
      "execution_count": null,
      "outputs": [
        {
          "output_type": "stream",
          "name": "stderr",
          "text": [
            "/usr/local/lib/python3.7/dist-packages/ipykernel_launcher.py:1: UserWarning: `Model.predict_generator` is deprecated and will be removed in a future version. Please use `Model.predict`, which supports generators.\n",
            "  \"\"\"Entry point for launching an IPython kernel.\n"
          ]
        },
        {
          "output_type": "stream",
          "name": "stdout",
          "text": [
            "Confusion Matrix\n",
            "Confusion matrix, without normalization\n"
          ]
        },
        {
          "output_type": "display_data",
          "data": {
            "image/png": "[encoded data removed]",
            "text/plain": [
              "<Figure size 720x720 with 2 Axes>"
            ]
          },
          "metadata": {
            "needs_background": "light"
          }
        }
      ]
    },
    {
      "cell_type": "markdown",
      "source": [
        "## Print Classification Report"
      ],
      "metadata": {
        "id": "uN1GHmZdKDR7"
      }
    },
    {
      "cell_type": "code",
      "source": [
        "print('Classification Report')\n",
        "\n",
        "print(classification_report(test_ds.classes, y_pred, target_names=target_names))"
      ],
      "metadata": {
        "id": "kLemcBL4KE8M",
        "colab": {
          "base_uri": "https://localhost:8080/"
        },
        "outputId": "505cf1f9-e20d-4ba2-9cb6-c269db79afc7"
      },
      "execution_count": null,
      "outputs": [
        {
          "output_type": "stream",
          "name": "stdout",
          "text": [
            "Classification Report\n",
            "              precision    recall  f1-score   support\n",
            "\n",
            "   aae-femea       0.95      0.98      0.97       150\n",
            "   aae-macho       0.88      0.92      0.90       150\n",
            "   aal-femea       0.94      0.98      0.96       104\n",
            "   aal-macho       0.93      0.79      0.85       111\n",
            "    cq-femea       0.97      0.99      0.98       150\n",
            "    cq-macho       0.99      0.97      0.98       150\n",
            "\n",
            "    accuracy                           0.94       815\n",
            "   macro avg       0.94      0.94      0.94       815\n",
            "weighted avg       0.94      0.94      0.94       815\n",
            "\n"
          ]
        }
      ]
    },
    {
      "cell_type": "markdown",
      "source": [
        "## Serialize model to JSON"
      ],
      "metadata": {
        "id": "rpDPIPRN4aHw"
      }
    },
    {
      "cell_type": "code",
      "source": [
        "model_json = model.to_json()\n",
        "with open(\"model.json\", \"w\") as json_file:\n",
        "    json_file.write(model_json)\n",
        "# serialize weights to HDF5\n",
        "model.save_weights(\"model.h5\")\n",
        "print(\"Saved model to disk\")"
      ],
      "metadata": {
        "id": "JIRTRbu74il0",
        "colab": {
          "base_uri": "https://localhost:8080/"
        },
        "outputId": "2f23a0fe-8890-4fac-ea19-64600495755d"
      },
      "execution_count": null,
      "outputs": [
        {
          "output_type": "stream",
          "name": "stderr",
          "text": [
            "/usr/local/lib/python3.7/dist-packages/keras/engine/functional.py:1410: CustomMaskWarning: Custom mask layers require a config and must override get_config. When loading, the custom mask layer must be passed to the custom_objects argument.\n",
            "  layer_config = serialize_layer_fn(layer)\n"
          ]
        },
        {
          "output_type": "stream",
          "name": "stdout",
          "text": [
            "Saved model to disk\n"
          ]
        }
      ]
    }
  ]
}